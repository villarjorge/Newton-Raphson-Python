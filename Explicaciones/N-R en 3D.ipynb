{
 "cells": [
  {
   "cell_type": "markdown",
   "metadata": {},
   "source": [
    "## Método de Newton-Raphson en 3D\n",
    "### Derivación de la fórmula\n",
    "\n",
    "Para una función cualquiera $f$ el método el método viene dado por: \n",
    "$$ \n",
    "    x_{n+1} = x_n - [J_f(x_n)]^{-1}g(x_n)\n",
    "$$\n",
    "https://www.wikiwand.com/en/Newton's_method#/Nonlinear_systems_of_equations\n",
    "Donde $[J_f(x_n)]^{-1}$ es el inverso izquierdo de la matriz jacobiana evaluado en $x_n$. Esta matriz está compuesta por todas las permutaciones de la primera derivada con respecto a cada una de las variables:\n",
    "$$\n",
    "    J = \n",
    "    \\begin{pmatrix}\n",
    "        \\frac{\\partial f_1}{\\partial x_1} \\cdots \\frac{\\partial f_1}{\\partial x_n} \\\\ \n",
    "        \\vdots \\vdots \\vdots \\\\\n",
    "        \\frac{\\partial f_m}{\\partial x_1} \\cdots \\frac{\\partial f_m}{\\partial x_n} \n",
    "    \\end{pmatrix}\n",
    "$$\n",
    "https://www.wikiwand.com/en/Jacobian_matrix_and_determinant\n",
    "Donde $x_1,\\ x_2,\\ \\cdots x_n$ representa un punto y $f_1,\\ f_2,\\ \\cdots \\ f_m$ representa el vector resultante.\n",
    " \n",
    "Se puede trazar el paralelo entre la derivada de una función que va de los números reales a los números reales y el Jacobiano de una función que va de n dimensiones a m dimensiones. El Jacoviano puede no ser una matriz cuadrada como en el caso que tenemos que evaluar nosotros. Para una superficie tridimensional ($g(x,\\ y) = z$) el Jacobiano quedaría:\n",
    "$$\n",
    "    J = \n",
    "    \\begin{bmatrix}\n",
    "        \\frac{\\partial g(x,\\ y)}{\\partial x} \\frac{\\partial g(x,\\ y)}{\\partial y}\n",
    "    \\end{bmatrix}\n",
    "$$\n",
    "\n",
    "Por lo tanto el método se puede reducir a: \n",
    "$$\n",
    "    x_{n+1} = x_n - \n",
    "    \\begin{bmatrix}\n",
    "        \\frac{\\partial g(x,\\ y)}{\\partial x} \\frac{\\partial g(x,\\ y)}{\\partial y}\n",
    "    \\end{bmatrix}^{-1}g(x_n)\n",
    "$$\n",
    "\n",
    "Y esta es la fórmula que utilizaremos para obtener las raices. Obtendremos la función introducida por el usuario de la misma forma, y utlizaremos sympy, en específico .jacobian() .inverse() para calcular el inverso del jacobiano\n",
    "\n",
    "https://docs.sympy.org/latest/modules/matrices/matrices.html\n",
    "\n",
    "\n",
    "https://docs.sympy.org/latest/modules/matrices/expressions.html?highlight=inverse%20matrix#sympy.matrices.expressions.Inverse"
   ]
  },
  {
   "cell_type": "code",
   "execution_count": 1,
   "metadata": {},
   "outputs": [],
   "source": [
    "import sympy as sym\n",
    "import numpy as np"
   ]
  },
  {
   "cell_type": "markdown",
   "metadata": {},
   "source": [
    "#### Cómo calcular el jacobiano\n",
    "\n",
    "Tenemos que cambiar nuestra variable por una matriz para poder aplicar .jacobian()"
   ]
  },
  {
   "cell_type": "code",
   "execution_count": 25,
   "metadata": {},
   "outputs": [
    {
     "name": "stdout",
     "output_type": "stream",
     "text": [
      "Introduce una función f(x, y) para calcular su jacobiano. Utiliza las variables 'x' e 'y' y recuerda utilizar 'E' para el número e, expresar explicitamente que quieres multiplicar con '*', utilizar sin(x) en vez de sen(x) y utilizar paréntesis si utilizas funciones como seno y coseno \n",
      "y*cos(x)\n"
     ]
    },
    {
     "data": {
      "text/latex": [
       "$\\displaystyle \\left[\\begin{matrix}- y \\sin{\\left(x \\right)} & \\cos{\\left(x \\right)}\\end{matrix}\\right]$"
      ],
      "text/plain": [
       "Matrix([[-y*sin(x), cos(x)]])"
      ]
     },
     "execution_count": 25,
     "metadata": {},
     "output_type": "execute_result"
    }
   ],
   "source": [
    "function = input(\"Introduce una función f(x, y) para calcular su jacobiano. Utiliza las variables 'x' e 'y' y recuerda utilizar 'E' para el número e, expresar explicitamente que quieres multiplicar con '*', utilizar sin(x) en vez de sen(x) y utilizar paréntesis si utilizas funciones como seno y coseno \\n\")\n",
    "symfunction = sym.sympify(function) # Esto es un casteo de una string a una expresión que sympy es capaz de entender \n",
    "F = sym.Matrix([symfunction])\n",
    "V = sym.Matrix([sym.sympify(\"x\"), sym.sympify(\"y\")]) # Necesitamos declarar una matriz con las variables a \n",
    "# utilizar para pasarselo a .jacobian(). tenemos que hacer el casteo de 'x' e 'y' a sus versiones de sympy\n",
    "F.jacobian(V)"
   ]
  },
  {
   "cell_type": "markdown",
   "metadata": {},
   "source": [
    "#### Cómo calcular el inverso izquierdo\n",
    "\n",
    "https://ocw.mit.edu/courses/mathematics/18-06sc-linear-algebra-fall-2011/positive-definite-matrices-and-applications/left-and-right-inverses-pseudoinverse/MIT18_06SCF11_Ses3.8sum.pdf\n",
    "\n",
    "$A^{-1}_{izq} = (A^T A)^{-1} A^T$"
   ]
  },
  {
   "cell_type": "code",
   "execution_count": 35,
   "metadata": {},
   "outputs": [
    {
     "name": "stdout",
     "output_type": "stream",
     "text": [
      "Introduce una función f(x, y) para calcular su jacobiano inverso. Utiliza las variables 'x' e 'y' y recuerda utilizar 'E' para el número e, expresar explicitamente que quieres multiplicar con '*', utilizar sin(x) en vez de sen(x) y utilizar paréntesis si utilizas funciones como seno y coseno \n",
      "x**2 + y\n"
     ]
    },
    {
     "ename": "NonInvertibleMatrixError",
     "evalue": "Matrix det == 0; not invertible.",
     "output_type": "error",
     "traceback": [
      "\u001b[1;31m---------------------------------------------------------------------------\u001b[0m",
      "\u001b[1;31mNonInvertibleMatrixError\u001b[0m                  Traceback (most recent call last)",
      "\u001b[1;32m<ipython-input-35-663a88ee0d3c>\u001b[0m in \u001b[0;36m<module>\u001b[1;34m\u001b[0m\n\u001b[0;32m      4\u001b[0m \u001b[0mV\u001b[0m \u001b[1;33m=\u001b[0m \u001b[0msym\u001b[0m\u001b[1;33m.\u001b[0m\u001b[0mMatrix\u001b[0m\u001b[1;33m(\u001b[0m\u001b[1;33m[\u001b[0m\u001b[0msym\u001b[0m\u001b[1;33m.\u001b[0m\u001b[0msympify\u001b[0m\u001b[1;33m(\u001b[0m\u001b[1;34m\"x\"\u001b[0m\u001b[1;33m)\u001b[0m\u001b[1;33m,\u001b[0m \u001b[0msym\u001b[0m\u001b[1;33m.\u001b[0m\u001b[0msympify\u001b[0m\u001b[1;33m(\u001b[0m\u001b[1;34m\"y\"\u001b[0m\u001b[1;33m)\u001b[0m\u001b[1;33m]\u001b[0m\u001b[1;33m)\u001b[0m \u001b[1;31m# Necesitamos declarar una matriz con las variables a\u001b[0m\u001b[1;33m\u001b[0m\u001b[1;33m\u001b[0m\u001b[0m\n\u001b[0;32m      5\u001b[0m \u001b[1;31m# utilizar para pasarselo a .jacobian(). tenemos que hacer el casteo de 'x' e 'y' a sus versiones de sympy\u001b[0m\u001b[1;33m\u001b[0m\u001b[1;33m\u001b[0m\u001b[1;33m\u001b[0m\u001b[0m\n\u001b[1;32m----> 6\u001b[1;33m \u001b[0mF_inversa\u001b[0m \u001b[1;33m=\u001b[0m \u001b[1;33m(\u001b[0m\u001b[1;33m(\u001b[0m\u001b[0msym\u001b[0m\u001b[1;33m.\u001b[0m\u001b[0mTranspose\u001b[0m\u001b[1;33m(\u001b[0m\u001b[0mF\u001b[0m\u001b[1;33m.\u001b[0m\u001b[0mjacobian\u001b[0m\u001b[1;33m(\u001b[0m\u001b[0mV\u001b[0m\u001b[1;33m)\u001b[0m\u001b[1;33m)\u001b[0m\u001b[1;33m*\u001b[0m\u001b[0mF\u001b[0m\u001b[1;33m.\u001b[0m\u001b[0mjacobian\u001b[0m\u001b[1;33m(\u001b[0m\u001b[0mV\u001b[0m\u001b[1;33m)\u001b[0m\u001b[1;33m)\u001b[0m\u001b[1;33m**\u001b[0m\u001b[1;33m(\u001b[0m\u001b[1;33m-\u001b[0m\u001b[1;36m1\u001b[0m\u001b[1;33m)\u001b[0m\u001b[1;33m)\u001b[0m\u001b[1;33m*\u001b[0m\u001b[0msym\u001b[0m\u001b[1;33m.\u001b[0m\u001b[0mTranspose\u001b[0m\u001b[1;33m(\u001b[0m\u001b[0mF\u001b[0m\u001b[1;33m.\u001b[0m\u001b[0mjacobian\u001b[0m\u001b[1;33m(\u001b[0m\u001b[0mV\u001b[0m\u001b[1;33m)\u001b[0m\u001b[1;33m)\u001b[0m \u001b[1;31m# Esta es la fórmula de arriba\u001b[0m\u001b[1;33m\u001b[0m\u001b[1;33m\u001b[0m\u001b[0m\n\u001b[0m\u001b[0;32m      7\u001b[0m \u001b[0mF_inversa\u001b[0m\u001b[1;33m\u001b[0m\u001b[1;33m\u001b[0m\u001b[0m\n",
      "\u001b[1;32m~\\anaconda3\\lib\\site-packages\\sympy\\core\\decorators.py\u001b[0m in \u001b[0;36mbinary_op_wrapper\u001b[1;34m(self, other)\u001b[0m\n\u001b[0;32m    125\u001b[0m                     \u001b[1;32mif\u001b[0m \u001b[0mf\u001b[0m \u001b[1;32mis\u001b[0m \u001b[1;32mnot\u001b[0m \u001b[1;32mNone\u001b[0m\u001b[1;33m:\u001b[0m\u001b[1;33m\u001b[0m\u001b[1;33m\u001b[0m\u001b[0m\n\u001b[0;32m    126\u001b[0m                         \u001b[1;32mreturn\u001b[0m \u001b[0mf\u001b[0m\u001b[1;33m(\u001b[0m\u001b[0mself\u001b[0m\u001b[1;33m)\u001b[0m\u001b[1;33m\u001b[0m\u001b[1;33m\u001b[0m\u001b[0m\n\u001b[1;32m--> 127\u001b[1;33m             \u001b[1;32mreturn\u001b[0m \u001b[0mfunc\u001b[0m\u001b[1;33m(\u001b[0m\u001b[0mself\u001b[0m\u001b[1;33m,\u001b[0m \u001b[0mother\u001b[0m\u001b[1;33m)\u001b[0m\u001b[1;33m\u001b[0m\u001b[1;33m\u001b[0m\u001b[0m\n\u001b[0m\u001b[0;32m    128\u001b[0m         \u001b[1;32mreturn\u001b[0m \u001b[0mbinary_op_wrapper\u001b[0m\u001b[1;33m\u001b[0m\u001b[1;33m\u001b[0m\u001b[0m\n\u001b[0;32m    129\u001b[0m     \u001b[1;32mreturn\u001b[0m \u001b[0mpriority_decorator\u001b[0m\u001b[1;33m\u001b[0m\u001b[1;33m\u001b[0m\u001b[0m\n",
      "\u001b[1;32m~\\anaconda3\\lib\\site-packages\\sympy\\matrices\\common.py\u001b[0m in \u001b[0;36m__pow__\u001b[1;34m(self, exp)\u001b[0m\n\u001b[0;32m   2568\u001b[0m         \u001b[1;34m\"\"\"Return self**exp a scalar or symbol.\"\"\"\u001b[0m\u001b[1;33m\u001b[0m\u001b[1;33m\u001b[0m\u001b[0m\n\u001b[0;32m   2569\u001b[0m \u001b[1;33m\u001b[0m\u001b[0m\n\u001b[1;32m-> 2570\u001b[1;33m         \u001b[1;32mreturn\u001b[0m \u001b[0mself\u001b[0m\u001b[1;33m.\u001b[0m\u001b[0mpow\u001b[0m\u001b[1;33m(\u001b[0m\u001b[0mexp\u001b[0m\u001b[1;33m)\u001b[0m\u001b[1;33m\u001b[0m\u001b[1;33m\u001b[0m\u001b[0m\n\u001b[0m\u001b[0;32m   2571\u001b[0m \u001b[1;33m\u001b[0m\u001b[0m\n\u001b[0;32m   2572\u001b[0m \u001b[1;33m\u001b[0m\u001b[0m\n",
      "\u001b[1;32m~\\anaconda3\\lib\\site-packages\\sympy\\matrices\\common.py\u001b[0m in \u001b[0;36mpow\u001b[1;34m(self, exp, method)\u001b[0m\n\u001b[0;32m   2612\u001b[0m             \u001b[1;32mif\u001b[0m \u001b[0mexp\u001b[0m \u001b[1;33m<\u001b[0m \u001b[1;36m0\u001b[0m\u001b[1;33m:\u001b[0m\u001b[1;33m\u001b[0m\u001b[1;33m\u001b[0m\u001b[0m\n\u001b[0;32m   2613\u001b[0m                 \u001b[0mexp\u001b[0m \u001b[1;33m=\u001b[0m \u001b[1;33m-\u001b[0m\u001b[0mexp\u001b[0m\u001b[1;33m\u001b[0m\u001b[1;33m\u001b[0m\u001b[0m\n\u001b[1;32m-> 2614\u001b[1;33m                 \u001b[0ma\u001b[0m \u001b[1;33m=\u001b[0m \u001b[0ma\u001b[0m\u001b[1;33m.\u001b[0m\u001b[0minv\u001b[0m\u001b[1;33m(\u001b[0m\u001b[1;33m)\u001b[0m\u001b[1;33m\u001b[0m\u001b[1;33m\u001b[0m\u001b[0m\n\u001b[0m\u001b[0;32m   2615\u001b[0m         \u001b[1;31m# When certain conditions are met,\u001b[0m\u001b[1;33m\u001b[0m\u001b[1;33m\u001b[0m\u001b[1;33m\u001b[0m\u001b[0m\n\u001b[0;32m   2616\u001b[0m         \u001b[1;31m# Jordan block algorithm is faster than\u001b[0m\u001b[1;33m\u001b[0m\u001b[1;33m\u001b[0m\u001b[1;33m\u001b[0m\u001b[0m\n",
      "\u001b[1;32m~\\anaconda3\\lib\\site-packages\\sympy\\matrices\\matrices.py\u001b[0m in \u001b[0;36minv\u001b[1;34m(self, method, iszerofunc, try_block_diag)\u001b[0m\n\u001b[0;32m   2249\u001b[0m \u001b[1;33m\u001b[0m\u001b[0m\n\u001b[0;32m   2250\u001b[0m     \u001b[1;32mdef\u001b[0m \u001b[0minv\u001b[0m\u001b[1;33m(\u001b[0m\u001b[0mself\u001b[0m\u001b[1;33m,\u001b[0m \u001b[0mmethod\u001b[0m\u001b[1;33m=\u001b[0m\u001b[1;32mNone\u001b[0m\u001b[1;33m,\u001b[0m \u001b[0miszerofunc\u001b[0m\u001b[1;33m=\u001b[0m\u001b[0m_iszero\u001b[0m\u001b[1;33m,\u001b[0m \u001b[0mtry_block_diag\u001b[0m\u001b[1;33m=\u001b[0m\u001b[1;32mFalse\u001b[0m\u001b[1;33m)\u001b[0m\u001b[1;33m:\u001b[0m\u001b[1;33m\u001b[0m\u001b[1;33m\u001b[0m\u001b[0m\n\u001b[1;32m-> 2251\u001b[1;33m         return _inv(self, method=method, iszerofunc=iszerofunc,\n\u001b[0m\u001b[0;32m   2252\u001b[0m                 try_block_diag=try_block_diag)\n\u001b[0;32m   2253\u001b[0m \u001b[1;33m\u001b[0m\u001b[0m\n",
      "\u001b[1;32m~\\anaconda3\\lib\\site-packages\\sympy\\matrices\\inverse.py\u001b[0m in \u001b[0;36m_inv\u001b[1;34m(M, method, iszerofunc, try_block_diag)\u001b[0m\n\u001b[0;32m    457\u001b[0m \u001b[1;33m\u001b[0m\u001b[0m\n\u001b[0;32m    458\u001b[0m     \u001b[1;32mif\u001b[0m \u001b[0mmethod\u001b[0m \u001b[1;33m==\u001b[0m \u001b[1;34m\"GE\"\u001b[0m\u001b[1;33m:\u001b[0m\u001b[1;33m\u001b[0m\u001b[1;33m\u001b[0m\u001b[0m\n\u001b[1;32m--> 459\u001b[1;33m         \u001b[0mrv\u001b[0m \u001b[1;33m=\u001b[0m \u001b[0mM\u001b[0m\u001b[1;33m.\u001b[0m\u001b[0minverse_GE\u001b[0m\u001b[1;33m(\u001b[0m\u001b[0miszerofunc\u001b[0m\u001b[1;33m=\u001b[0m\u001b[0miszerofunc\u001b[0m\u001b[1;33m)\u001b[0m\u001b[1;33m\u001b[0m\u001b[1;33m\u001b[0m\u001b[0m\n\u001b[0m\u001b[0;32m    460\u001b[0m     \u001b[1;32melif\u001b[0m \u001b[0mmethod\u001b[0m \u001b[1;33m==\u001b[0m \u001b[1;34m\"LU\"\u001b[0m\u001b[1;33m:\u001b[0m\u001b[1;33m\u001b[0m\u001b[1;33m\u001b[0m\u001b[0m\n\u001b[0;32m    461\u001b[0m         \u001b[0mrv\u001b[0m \u001b[1;33m=\u001b[0m \u001b[0mM\u001b[0m\u001b[1;33m.\u001b[0m\u001b[0minverse_LU\u001b[0m\u001b[1;33m(\u001b[0m\u001b[0miszerofunc\u001b[0m\u001b[1;33m=\u001b[0m\u001b[0miszerofunc\u001b[0m\u001b[1;33m)\u001b[0m\u001b[1;33m\u001b[0m\u001b[1;33m\u001b[0m\u001b[0m\n",
      "\u001b[1;32m~\\anaconda3\\lib\\site-packages\\sympy\\matrices\\matrices.py\u001b[0m in \u001b[0;36minverse_GE\u001b[1;34m(self, iszerofunc)\u001b[0m\n\u001b[0;32m   2234\u001b[0m \u001b[1;33m\u001b[0m\u001b[0m\n\u001b[0;32m   2235\u001b[0m     \u001b[1;32mdef\u001b[0m \u001b[0minverse_GE\u001b[0m\u001b[1;33m(\u001b[0m\u001b[0mself\u001b[0m\u001b[1;33m,\u001b[0m \u001b[0miszerofunc\u001b[0m\u001b[1;33m=\u001b[0m\u001b[0m_iszero\u001b[0m\u001b[1;33m)\u001b[0m\u001b[1;33m:\u001b[0m\u001b[1;33m\u001b[0m\u001b[1;33m\u001b[0m\u001b[0m\n\u001b[1;32m-> 2236\u001b[1;33m         \u001b[1;32mreturn\u001b[0m \u001b[0m_inv_GE\u001b[0m\u001b[1;33m(\u001b[0m\u001b[0mself\u001b[0m\u001b[1;33m,\u001b[0m \u001b[0miszerofunc\u001b[0m\u001b[1;33m=\u001b[0m\u001b[0miszerofunc\u001b[0m\u001b[1;33m)\u001b[0m\u001b[1;33m\u001b[0m\u001b[1;33m\u001b[0m\u001b[0m\n\u001b[0m\u001b[0;32m   2237\u001b[0m \u001b[1;33m\u001b[0m\u001b[0m\n\u001b[0;32m   2238\u001b[0m     \u001b[1;32mdef\u001b[0m \u001b[0minverse_LU\u001b[0m\u001b[1;33m(\u001b[0m\u001b[0mself\u001b[0m\u001b[1;33m,\u001b[0m \u001b[0miszerofunc\u001b[0m\u001b[1;33m=\u001b[0m\u001b[0m_iszero\u001b[0m\u001b[1;33m)\u001b[0m\u001b[1;33m:\u001b[0m\u001b[1;33m\u001b[0m\u001b[1;33m\u001b[0m\u001b[0m\n",
      "\u001b[1;32m~\\anaconda3\\lib\\site-packages\\sympy\\matrices\\inverse.py\u001b[0m in \u001b[0;36m_inv_GE\u001b[1;34m(M, iszerofunc)\u001b[0m\n\u001b[0;32m    243\u001b[0m \u001b[1;33m\u001b[0m\u001b[0m\n\u001b[0;32m    244\u001b[0m     \u001b[1;32mif\u001b[0m \u001b[0many\u001b[0m\u001b[1;33m(\u001b[0m\u001b[0miszerofunc\u001b[0m\u001b[1;33m(\u001b[0m\u001b[0mred\u001b[0m\u001b[1;33m[\u001b[0m\u001b[0mj\u001b[0m\u001b[1;33m,\u001b[0m \u001b[0mj\u001b[0m\u001b[1;33m]\u001b[0m\u001b[1;33m)\u001b[0m \u001b[1;32mfor\u001b[0m \u001b[0mj\u001b[0m \u001b[1;32min\u001b[0m \u001b[0mrange\u001b[0m\u001b[1;33m(\u001b[0m\u001b[0mred\u001b[0m\u001b[1;33m.\u001b[0m\u001b[0mrows\u001b[0m\u001b[1;33m)\u001b[0m\u001b[1;33m)\u001b[0m\u001b[1;33m:\u001b[0m\u001b[1;33m\u001b[0m\u001b[1;33m\u001b[0m\u001b[0m\n\u001b[1;32m--> 245\u001b[1;33m         \u001b[1;32mraise\u001b[0m \u001b[0mNonInvertibleMatrixError\u001b[0m\u001b[1;33m(\u001b[0m\u001b[1;34m\"Matrix det == 0; not invertible.\"\u001b[0m\u001b[1;33m)\u001b[0m\u001b[1;33m\u001b[0m\u001b[1;33m\u001b[0m\u001b[0m\n\u001b[0m\u001b[0;32m    246\u001b[0m \u001b[1;33m\u001b[0m\u001b[0m\n\u001b[0;32m    247\u001b[0m     \u001b[1;32mreturn\u001b[0m \u001b[0mM\u001b[0m\u001b[1;33m.\u001b[0m\u001b[0m_new\u001b[0m\u001b[1;33m(\u001b[0m\u001b[0mred\u001b[0m\u001b[1;33m[\u001b[0m\u001b[1;33m:\u001b[0m\u001b[1;33m,\u001b[0m \u001b[0mbig\u001b[0m\u001b[1;33m.\u001b[0m\u001b[0mrows\u001b[0m\u001b[1;33m:\u001b[0m\u001b[1;33m]\u001b[0m\u001b[1;33m)\u001b[0m\u001b[1;33m\u001b[0m\u001b[1;33m\u001b[0m\u001b[0m\n",
      "\u001b[1;31mNonInvertibleMatrixError\u001b[0m: Matrix det == 0; not invertible."
     ]
    }
   ],
   "source": [
    "function = input(\"Introduce una función f(x, y) para calcular su jacobiano inverso. Utiliza las variables 'x' e 'y' y recuerda utilizar 'E' para el número e, expresar explicitamente que quieres multiplicar con '*', utilizar sin(x) en vez de sen(x) y utilizar paréntesis si utilizas funciones como seno y coseno \\n\")\n",
    "symfunction = sym.sympify(function) # Esto es un casteo de una string a una expresión que sympy es capaz de entender \n",
    "F = sym.Matrix([symfunction])\n",
    "V = sym.Matrix([sym.sympify(\"x\"), sym.sympify(\"y\")]) # Necesitamos declarar una matriz con las variables a \n",
    "# utilizar para pasarselo a .jacobian(). tenemos que hacer el casteo de 'x' e 'y' a sus versiones de sympy\n",
    "F_inversa = ((sym.Transpose(F.jacobian(V))*F.jacobian(V))**(-1))*sym.Transpose(F.jacobian(V)) # Esta es la fórmula de arriba\n",
    "F_inversa"
   ]
  },
  {
   "cell_type": "markdown",
   "metadata": {},
   "source": [
    "### El método aplicado\n",
    "\n",
    "Será una fórma similar a como lo hemos hecho en 2D"
   ]
  },
  {
   "cell_type": "code",
   "execution_count": null,
   "metadata": {},
   "outputs": [],
   "source": [
    "function = input(\"Introduce una función f(x, y) para calcular su jacobiano inverso. Utiliza las variables 'x' e 'y' y recuerda utilizar 'E' para el número e, expresar explicitamente que quieres multiplicar con '*', utilizar sin(x) en vez de sen(x) y utilizar paréntesis si utilizas funciones como seno y coseno \\n\")\n",
    "symfunction = sym.sympify(function) # Esto es un casteo de una string a una expresión que sympy es capaz de entender \n",
    "F = sym.Matrix([symfunction])\n",
    "V = sym.Matrix([sym.sympify(\"x\"), sym.sympify(\"y\")]) \n",
    "F_inversa = (sym.Transpose(F.jacobian(V))*F.jacobian(V))*sym.Transpose(F.jacobian(V)) \n",
    "\n",
    "x_i = 0.1# Esto es un valor aleatorio. \n",
    "         # Dependiendo de la función no puede ser cero o dará un error de Not A Number. Se debe hacer una gestión de eso\n",
    "error_dado = float(input(\"Introduce el error: \\n\"))\n",
    "error_calculado = 1.0\n",
    "i = 0\n",
    "while error_dado <= error_calculado:\n",
    "    x_siguiente = x_i - (symfunction.subs(sym.Symbol(\"x\"), x_i))/(symfunctiondiff.subs(sym.Symbol(\"x\"), x_i))\n",
    "    #print(f\"x_siguiente: {x_siguiente} \\n\")\n",
    "    #print(f\"x_i: {x_i} \\n\")\n",
    "    error_calculado = abs((x_siguiente - x_i))\n",
    "    print(f\"Valor del error: {error_calculado} \\n\")\n",
    "    x_i = x_siguiente\n",
    "    i += 1\n",
    "    if i == 10000: # Failswich para que no se produzca un bucle infinito en caso de que no converga\n",
    "        print(\"El bucle se ha ejecutado 10000 veces, saliendo de él\")\n",
    "        break\n",
    "print(f\"La aproximación a una de las raices de la función {symfunction} es {x_siguiente} ({i} iteraciones)\")"
   ]
  }
 ],
 "metadata": {
  "kernelspec": {
   "display_name": "Python 3",
   "language": "python",
   "name": "python3"
  },
  "language_info": {
   "codemirror_mode": {
    "name": "ipython",
    "version": 3
   },
   "file_extension": ".py",
   "mimetype": "text/x-python",
   "name": "python",
   "nbconvert_exporter": "python",
   "pygments_lexer": "ipython3",
   "version": "3.8.3"
  }
 },
 "nbformat": 4,
 "nbformat_minor": 4
}
