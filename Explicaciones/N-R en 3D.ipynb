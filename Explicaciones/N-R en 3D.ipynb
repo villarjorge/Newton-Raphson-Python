{
 "cells": [
  {
   "cell_type": "markdown",
   "metadata": {},
   "source": [
    "### Video\n",
    "\n",
    "https://www.youtube.com/watch?v=-hFSM2kQ1S0\n",
    "\n",
    "En este video habla de como aplicar el método es basicamente tomar una aproximación lineal de las dos funciones, me ha parecido relativamente bien explicado. Deriva el porqué de utilizar el jacobiano. "
   ]
  },
  {
   "cell_type": "markdown",
   "metadata": {},
   "source": [
    "## Método de Newton-Raphson en 3D\n",
    "### Derivación de la fórmula para una función cualquiera\n",
    "\n",
    "Para una función cualquiera $f$ el método el método viene dado por: \n",
    "$$ \n",
    "    x_{n+1} = x_n - [J_f(x_n)]^{-1}g(x_n)\n",
    "$$\n",
    "https://www.wikiwand.com/en/Newton's_method#/Nonlinear_systems_of_equations\n",
    "Donde $[J_f(x_n)]^{-1}$ es el inverso izquierdo de la matriz jacobiana evaluado en $x_n$. Esta matriz está compuesta por todas las permutaciones de la primera derivada con respecto a cada una de las variables:\n",
    "$$\n",
    "    J = \n",
    "    \\begin{pmatrix}\n",
    "        \\frac{\\partial f_1}{\\partial x_1} \\cdots \\frac{\\partial f_1}{\\partial x_n} \\\\ \n",
    "        \\vdots \\vdots \\vdots \\\\\n",
    "        \\frac{\\partial f_m}{\\partial x_1} \\cdots \\frac{\\partial f_m}{\\partial x_n} \n",
    "    \\end{pmatrix}\n",
    "$$\n",
    "https://www.wikiwand.com/en/Jacobian_matrix_and_determinant\n",
    "Donde $x_1,\\ x_2,\\ \\cdots x_n$ representan las variables del sistema y $f_1,\\ f_2,\\ \\cdots \\ f_m$ representan el vector resultante.\n",
    " \n",
    "Se puede trazar el paralelo entre la derivada de una función que va de los números reales a los números reales y el Jacobiano de una función que va de n dimensiones a m dimensiones. El Jacoviano puede no ser una matriz cuadrada como en el caso que tenemos que evaluar nosotros. Para una superficie tridimensional ($g(x,\\ y) = z$) el Jacobiano quedaría:\n",
    "$$\n",
    "    J = \n",
    "    \\begin{bmatrix}\n",
    "        \\frac{\\partial g(x,\\ y)}{\\partial x} \\frac{\\partial g(x,\\ y)}{\\partial y}\n",
    "    \\end{bmatrix}\n",
    "$$\n",
    "\n",
    "Por lo tanto el método se puede reducir a: \n",
    "$$\n",
    "    x_{n+1} = x_n - \n",
    "    \\begin{bmatrix}\n",
    "        \\frac{\\partial g(x_n)}{\\partial x} \\frac{\\partial g(x_n)}{\\partial y}\n",
    "    \\end{bmatrix}^{-1}g(x_n)\n",
    "$$\n",
    "Como se puede ver esta forma de proceder da problemas, ya que no se puede computar el inverso de una raiz no cuadrada y además este tipo de matrices no responden bien a manipulaciones. Esto es en parte el porqué de aplicar el método de la forma descrita más adelante.\n",
    "\n",
    "### Notas sobre funciones f(x, y) = z\n",
    "\n",
    "Una función del tipo $f(x,\\ y) = z$ puede ser interpretada como una superficie en un espacio tridimensional. Observemos el caso de $f(x,\\ y) = x^2 + y^2 - 1 = z$ Esta función es el equivalnte de una parábola con raices $(\\sqrt2,\\ -\\sqrt2)$ en tres dimensiones. Por ello tendrá un número infinito de soluciones que será una circunferencia centrada en el origen y con radio $\\sqrt2$. (Utiliza https://www.geogebra.org/3d para ayudar a la visualización). \n",
    "\n",
    "Esto simplifica el problema general que tenemos entre manos, ya que solo tenemos que encontrar una de las soluciones de la función dada para obtener el resto. La forma en la que vamos a obtener esto es tomando una copia de la función dada y desplazandola ligeramente por una cantidad cualquiera (pequeña) en uno de los ejes de tal forma que los puntos de corte de ambas funciones formen parte del conjunto de soluciones de la primera función. Con esto estamos creando un sistema de ecuaciones al que podemos aplicar el método NR. El desplazamiento en sí será reemplazar ambas variables por ellas mismas menos uno. Con esto minimizaremos las posivilidades de que se forme un sistema que no tenga soluciones. \n",
    "\n",
    "En resumen: Aplicaremos el método a un sistema lineal de dos ecuaciones y dos incógnitas para obtener como mínimo una de las soluciones de la función dada\n",
    "\n",
    "\n",
    "### Derivación de la fórmula para el sistema de ecuaciones\n",
    "\n",
    "Tenemos una función introducida por el usuario $f(x,\\ y) = z$ y una función $g(x,\\ y)=z$ que será la introducida desplazada. Por lo tanto el Jacobiano queda como: \n",
    "$$\n",
    "    J = \n",
    "    \\begin{bmatrix}\n",
    "        \\frac{\\partial f(x,\\ y)}{\\partial x} \\frac{\\partial f(x,\\ y)}{\\partial y} \n",
    "        \\\\\n",
    "        \\frac{\\partial g(x,\\ y)}{\\partial x} \\frac{\\partial g(x,\\ y)}{\\partial y}\n",
    "    \\end{bmatrix}\n",
    "$$\n",
    "\n",
    "Con lo que el método queda: \n",
    "$$\n",
    "    X_{n+1} = X_n - \n",
    "    \\begin{bmatrix}\n",
    "        \\frac{\\partial f(X_n)}{\\partial x} \\frac{\\partial f(X_n)}{\\partial y} \n",
    "        \\\\\n",
    "        \\frac{\\partial g(X_n)}{\\partial x} \\frac{\\partial g(X_n)}{\\partial y}\n",
    "    \\end{bmatrix}^{-1}f(X_n)   \n",
    "$$\n",
    "\n",
    "Que se puede reorganizar como: \n",
    "$$\n",
    "    \\begin{bmatrix}\n",
    "        \\frac{\\partial f(X_n)}{\\partial x} \\frac{\\partial f(X_n)}{\\partial y} \n",
    "        \\\\\n",
    "        \\frac{\\partial g(X_n)}{\\partial x} \\frac{\\partial g(X_n)}{\\partial y}\n",
    "    \\end{bmatrix}(X_{n+1}-X_n) = - f(X_n) \\Rightarrow \n",
    "    \\begin{bmatrix}\n",
    "        \\frac{\\partial f(x_n,\\ y_n)}{\\partial x} \\frac{\\partial f(x_n,\\ y_n)}{\\partial y} \n",
    "        \\\\\n",
    "        \\frac{\\partial g(x_n,\\ y_n)}{\\partial x} \\frac{\\partial g(x_n,\\ y_n)}{\\partial y}\n",
    "    \\end{bmatrix}(X_n-X_{n+1})\n",
    "    = f(X_n)%- \\begin{bmatrix}f(x_n) \\\\ f(y_n)\\end{bmatrix}\n",
    "$$\n",
    "\n",
    "Tenemos que resolver para $x_{n+1}$ e $y_{n+1}$ \n",
    "\n",
    "Y esta es la fórmula que utilizaremos para obtener las raices. Obtendremos la función introducida por el usuario de la misma forma, y utlizaremos sympy, en específico .jacobian() para calcular el jacobiano\n",
    "\n",
    "\n",
    "https://docs.sympy.org/latest/modules/matrices/matrices.html\n",
    "\n",
    "https://docs.sympy.org/latest/modules/matrices/expressions.html?highlight=inverse%20matrix#sympy.matrices.expressions.Inverse"
   ]
  },
  {
   "cell_type": "code",
   "execution_count": 1,
   "metadata": {},
   "outputs": [],
   "source": [
    "import sympy as sym\n",
    "import numpy as np"
   ]
  },
  {
   "cell_type": "markdown",
   "metadata": {},
   "source": [
    "#### Cómo calcular el jacobiano\n",
    "\n",
    "Tenemos que cambiar nuestra variable por una matriz para poder aplicar .jacobian()"
   ]
  },
  {
   "cell_type": "code",
   "execution_count": 4,
   "metadata": {},
   "outputs": [
    {
     "name": "stdout",
     "output_type": "stream",
     "text": [
      "Introduce una función f(x, y) para calcular su jacobiano. Utiliza las variables 'x' e 'y' y recuerda utilizar 'E' para el número e, expresar explicitamente que quieres multiplicar con '*', utilizar sin(x) en vez de sen(x) y utilizar paréntesis si utilizas funciones como seno y coseno \n",
      "x^2 + y^2\n"
     ]
    },
    {
     "data": {
      "text/latex": [
       "$\\displaystyle \\left[\\begin{matrix}2 x & 2 y\\end{matrix}\\right]$"
      ],
      "text/plain": [
       "Matrix([[2*x, 2*y]])"
      ]
     },
     "execution_count": 4,
     "metadata": {},
     "output_type": "execute_result"
    }
   ],
   "source": [
    "function = input(\"Introduce una función f(x, y) para calcular su jacobiano. Utiliza las variables 'x' e 'y' y recuerda utilizar 'E' para el número e, expresar explicitamente que quieres multiplicar con '*', utilizar sin(x) en vez de sen(x) y utilizar paréntesis si utilizas funciones como seno y coseno \\n\")\n",
    "symfunction = sym.sympify(function) # Esto es un casteo de una string a una expresión que sympy es capaz de entender \n",
    "F = sym.Matrix([symfunction])\n",
    "V = sym.Matrix([sym.sympify(\"x\"), sym.sympify(\"y\")]) # Necesitamos declarar una matriz con las variables a \n",
    "# utilizar para pasarselo a .jacobian(). tenemos que hacer el casteo de 'x' e 'y' a sus versiones de sympy\n",
    "F.jacobian(V)"
   ]
  },
  {
   "cell_type": "markdown",
   "metadata": {},
   "source": [
    "#### El jacobiano extendido y resolverel sistema de ecuaciones\n",
    "\n",
    "https://www.youtube.com/watch?v=acsSIyDugP0"
   ]
  },
  {
   "cell_type": "code",
   "execution_count": 50,
   "metadata": {},
   "outputs": [
    {
     "name": "stdout",
     "output_type": "stream",
     "text": [
      "Introduce una función f(x, y) para calcular su jacobiano. Utiliza las variables 'x' e 'y' y recuerda utilizar 'E' para el número e, expresar explicitamente que quieres multiplicar con '*', utilizar sin(x) en vez de sen(x) y utilizar paréntesis si utilizas funciones como seno y coseno \n",
      "x^2 + y^2\n",
      "Matrix([[-2], [-8]])\n"
     ]
    }
   ],
   "source": [
    "function = input(\"Introduce una función f(x, y) para calcular su jacobiano. Utiliza las variables 'x' e 'y' y recuerda utilizar 'E' para el número e, expresar explicitamente que quieres multiplicar con '*', utilizar sin(x) en vez de sen(x) y utilizar paréntesis si utilizas funciones como seno y coseno \\n\")\n",
    "function2 = input(\"Introduce una función G(x, y) para calcular su jacobiano. Utiliza las variables 'x' e 'y' y recuerda utilizar 'E' para el número e, expresar explicitamente que quieres multiplicar con '*', utilizar sin(x) en vez de sen(x) y utilizar paréntesis si utilizas funciones como seno y coseno \\n\")\n",
    "symfunction = sym.sympify(function) # Esto es un casteo de una string a una expresión que sympy es capaz de entender \n",
    "symfunction2 = sym.sympify(function2)\n",
    "\n",
    "F = sym.Matrix([symfunction]) # la matriz 1x1 de la función f\n",
    "G = sym.Matrix([symfunciton2]) # la matriz 1x1 de la función g\n",
    "#F.subs((sym.Symbol(\"x\"), sym.Symbol(\"x\")+1), (sym.Symbol(\"y\"), sym.Symbol(\"y\")+1)) esta forma no funciona\n",
    "\n",
    "V = sym.Matrix([sym.sympify(\"x\"), sym.sympify(\"y\")])\n",
    "F_G = sym.Matrix([[F], [G]])\n",
    "J = F_G.jacobian(V) # esta será nuestra matriz de coeficientes\n",
    "\n",
    "X0 = sym.Matrix([1, 1])\n",
    "\n",
    "r0 = [1, 1]\n",
    "\n",
    "J_sub = J.subs([], [])\n",
    "J_sub.gauss_jordan_solve(sym.Matrix([[symfunction.subs(r0[0], r0[1])], [symfunction.subs(r0[0], r0[1])]]))"
   ]
  },
  {
   "cell_type": "markdown",
   "metadata": {},
   "source": [
    "#### Cómo calcular el inverso izquierdo\n",
    "\n",
    "https://ocw.mit.edu/courses/mathematics/18-06sc-linear-algebra-fall-2011/positive-definite-matrices-and-applications/left-and-right-inverses-pseudoinverse/MIT18_06SCF11_Ses3.8sum.pdf\n",
    "\n",
    "$A^{-1}_{izq} = (A^T A)^{-1} A^T$"
   ]
  },
  {
   "cell_type": "code",
   "execution_count": 4,
   "metadata": {},
   "outputs": [
    {
     "name": "stdout",
     "output_type": "stream",
     "text": [
      "Introduce una función f(x, y) para calcular su jacobiano inverso. Utiliza las variables 'x' e 'y' y recuerda utilizar 'E' para el número e, expresar explicitamente que quieres multiplicar con '*', utilizar sin(x) en vez de sen(x) y utilizar paréntesis si utilizas funciones como seno y coseno \n",
      "x\n"
     ]
    }
   ],
   "source": [
    "function = input(\"Introduce una función f(x, y) para calcular su jacobiano inverso. Utiliza las variables 'x' e 'y' y recuerda utilizar 'E' para el número e, expresar explicitamente que quieres multiplicar con '*', utilizar sin(x) en vez de sen(x) y utilizar paréntesis si utilizas funciones como seno y coseno \\n\")\n",
    "symfunction = sym.sympify(function) # Esto es un casteo de una string a una expresión que sympy es capaz de entender \n",
    "F = sym.Matrix([symfunction])\n",
    "V = sym.Matrix([sym.sympify(\"x\"), sym.sympify(\"y\")]) # Necesitamos declarar una matriz con las variables a \n",
    "# utilizar para pasarselo a .jacobian(). tenemos que hacer el casteo de 'x' e 'y' a sus versiones de sympy\n",
    "#F_inversa = ((sym.Transpose(F.jacobian(V))*F.jacobian(V))**(-1))*sym.Transpose(F.jacobian(V)) # Esta es la fórmula de arriba\n",
    "#F_inversa # No funciona "
   ]
  },
  {
   "cell_type": "markdown",
   "metadata": {},
   "source": [
    "#### Resolver el sistema de ecuaciones lineales para un jacobiano no extendido"
   ]
  },
  {
   "cell_type": "code",
   "execution_count": 74,
   "metadata": {},
   "outputs": [
    {
     "name": "stdout",
     "output_type": "stream",
     "text": [
      "Introduce una función f(x, y) para calcular su jacobiano. Utiliza las variables 'x' e 'y' y recuerda utilizar 'E' para el número e, expresar explicitamente que quieres multiplicar con '*', utilizar sin(x) en vez de sen(x) y utilizar paréntesis si utilizas funciones como seno y coseno \n",
      "x^2+y^2\n"
     ]
    },
    {
     "data": {
      "text/latex": [
       "$\\displaystyle \\left[\\begin{matrix}x^{2} + y^{2}\\\\x^{2} + y^{2}\\end{matrix}\\right]$"
      ],
      "text/plain": [
       "Matrix([\n",
       "[x**2 + y**2],\n",
       "[x**2 + y**2]])"
      ]
     },
     "execution_count": 74,
     "metadata": {},
     "output_type": "execute_result"
    }
   ],
   "source": [
    "function = input(\"Introduce una función f(x, y) para calcular su jacobiano. Utiliza las variables 'x' e 'y' y recuerda utilizar 'E' para el número e, expresar explicitamente que quieres multiplicar con '*', utilizar sin(x) en vez de sen(x) y utilizar paréntesis si utilizas funciones como seno y coseno \\n\")\n",
    "symfunction = sym.sympify(function) # Esto es un casteo de una string a una expresión que sympy es capaz de entender \n",
    "F = sym.Matrix([symfunction])\n",
    "V = sym.Matrix([sym.sympify(\"x\"), sym.sympify(\"y\")]) # Necesitamos declarar una matriz con las variables a \n",
    "# utilizar para pasarselo a .jacobian(). tenemos que hacer el casteo de 'x' e 'y' a sus versiones de sympy\n",
    "J = sym.transpose(F.jacobian(V))\n",
    "\n",
    "r0 = [1, 1]\n",
    "\n",
    "J = J.subs([(sym.Symbol(\"x\"), r0[0]), (sym.Symbol(\"y\"), r0[1])])\n",
    "J.gauss_jordan_solve(sym.Matrix([[symfunction.subs(r0[0], r0[1])], [symfunction.subs(r0[0], r0[1])]]))\n",
    "# sym.Matrix([[symfunction.subs(r0[0], r0[1])], [symfunction.subs(r0[0], r0[1])]])"
   ]
  },
  {
   "cell_type": "markdown",
   "metadata": {},
   "source": [
    "### Things to look out for in N-Dimensional Newton-Raphson\n",
    "\n",
    "1) Stationary points - gradient is 1D or det(jacobian) = 0\n",
    "\n",
    "2) Poor initial conditions - Try a few different initial conditions to prevent local minima.\n",
    "\n",
    "3) Overshoot - Change that alfa parameter to make sure you don't blow up"
   ]
  },
  {
   "cell_type": "code",
   "execution_count": 75,
   "metadata": {},
   "outputs": [
    {
     "name": "stdout",
     "output_type": "stream",
     "text": [
      "Introduce una función f(x, y) para calcular su jacobiano. Utiliza las variables 'x' e 'y' y recuerda utilizar 'E' para el número e, expresar explicitamente que quieres multiplicar con '*', utilizar sin(x) en vez de sen(x) y utilizar paréntesis si utilizas funciones como seno y coseno \n",
      "x^2+y^2-2\n",
      "Introduce una función g(x, y) para calcular su jacobiano. Utiliza las variables 'x' e 'y' y recuerda utilizar 'E' para el número e, expresar explicitamente que quieres multiplicar con '*', utilizar sin(x) en vez de sen(x) y utilizar paréntesis si utilizas funciones como seno y coseno \n",
      "x^2+y\n",
      "Introduce el error (Las raíces finales serán redondeadas en función del error dictado, Ej: error=0.0001 -> redondeo hasta la cuarta unidad): \n",
      "0.001\n"
     ]
    }
   ],
   "source": [
    "# En esta celda se selecionan las funciones \n",
    "function = input(\"Introduce una función f(x, y) para calcular su jacobiano. Utiliza las variables 'x' e 'y' y recuerda utilizar 'E' para el número e, expresar explicitamente que quieres multiplicar con '*', utilizar sin(x) en vez de sen(x) y utilizar paréntesis si utilizas funciones como seno y coseno \\n\")\n",
    "function2 = input(\"Introduce una función g(x, y) para calcular su jacobiano. Utiliza las variables 'x' e 'y' y recuerda utilizar 'E' para el número e, expresar explicitamente que quieres multiplicar con '*', utilizar sin(x) en vez de sen(x) y utilizar paréntesis si utilizas funciones como seno y coseno \\n\")\n",
    "symfunction = sym.sympify(function) # Esto es un casteo de una string a una expresión que sympy es capaz de entender \n",
    "symfunction2 = sym.sympify(function2)\n",
    "\n",
    "F = sym.Matrix([symfunction]) # la matriz 1x1 de la función f\n",
    "G = sym.Matrix([symfunction2]) # la matriz 1x1 de la función g\n",
    "#F.subs((sym.Symbol(\"x\"), sym.Symbol(\"x\")+1), (sym.Symbol(\"y\"), sym.Symbol(\"y\")+1)) esta forma no funciona\n",
    "\n",
    "V = sym.Matrix([sym.sympify(\"x\"), sym.sympify(\"y\")])\n",
    "F_G = sym.Matrix([[F], [G]])\n",
    "J = F_G.jacobian(V) # esta será nuestra matriz de coeficientes\n",
    "\n",
    "error_dado = float(input(\"Introduce el error (Las raíces finales serán redondeadas en función del error dictado, Ej: error=0.0001 -> redondeo hasta la cuarta unidad): \\n\"))"
   ]
  },
  {
   "cell_type": "code",
   "execution_count": 106,
   "metadata": {},
   "outputs": [
    {
     "name": "stdout",
     "output_type": "stream",
     "text": [
      "Iteración: 1  Error: 4/5\n",
      "Iteración: 2  Error: 42/65\n",
      "Iteración: 3  Error: 108/65\n",
      "Iteración: 4  Error: 3888/6305\n",
      "Iteración: 5  Error: 5038848/42981185\n",
      "Iteración: 6  Error: 9282840953053658678426021607009451561948372578816/1313749016240181846025342941865631840304614940865295\n",
      "Iteración: 7  Error: 90957899413577244972989328956052279952540411331285218115913078161294549785776416934320360375925701795424967458816/3198293507274648056247306442963255103805775012637885893041235465151548921423847909803527451793809873827991180561389215\n",
      "Uno de los puntos en el que se cortan las funciones y el plano x-y es (-1.00000000041246, -1.00000000001612, 0.0000499271770858672) que es aproximadamente el punto (7 iteraciones)\n"
     ]
    }
   ],
   "source": [
    "# En esta celda se hace la iteración\n",
    "r0 = sym.Matrix([1, 1]) # Vector inicial, son matrices de sympy para que no halla errores\n",
    "r_siguiente = sym.Matrix([0, 0]) # Vector siguente\n",
    "\n",
    "#Primero lo hacemos con r0\n",
    "# Actualizamos los valores de las matrices de coeficientes\n",
    "J_sub = J.subs([[sym.sympify(\"x\"), r0[0]], [sym.sympify(\"y\"), r0[1]]])\n",
    "F_G_sub = F_G.subs([[sym.sympify(\"x\"), r0[0]], [sym.sympify(\"y\"), r0[1]]]) \n",
    "# sym.simplify(J_sub.gauss_jordan_solve(F_G_sub)) # Si pones esta linea te muesta la matriz de solución \n",
    "solucion = J_sub.gauss_jordan_solve(F_G_sub)[0] # la fución debuelve dos matrices la primera tiene las soluciones \n",
    "# y la segunda tiene las incognitas en caso de que no pueda resolver el sistema completamente, como siempre va a poder \n",
    "# resolver el sistema solo necesitamos la primera enterada\n",
    "# Actualizamos el valor de r_siguiente\n",
    "r_siguiente = r0 - solucion\n",
    "\n",
    "error_calculado = 1.0\n",
    "\n",
    "iteracion = 0\n",
    "while error_dado <= error_calculado or iteracion > 100: # si hace demasiadas iteraciones parará el ciclo\n",
    "    # Actualizamos los valores de las matrices de coeficientes\n",
    "    J_sub = J.subs([[sym.sympify(\"x\"), r_siguiente[0]], [sym.sympify(\"y\"), r_siguiente[1]]])  # jacobiano sustituido\n",
    "    F_G_sub = F_G.subs([[sym.sympify(\"x\"), r_siguiente[0]], [sym.sympify(\"y\"), r_siguiente[1]]]) # la matriz con las dos funciones sustituidas\n",
    "    solucion = J_sub.gauss_jordan_solve(F_G_sub)[0] # La matriz de soluciones\n",
    "    \n",
    "    # Actualizamos el valor de r_siguiete\n",
    "    r_siguiente = r0 - solucion # Hacemos los dos a la vez\n",
    "    \n",
    "    # Actualizamos el error\n",
    "    error_calculado = abs(max([(r_siguiente[0]-r0[0]), (r_siguiente[1]-r0[1])]))\n",
    "\n",
    "    # Actualizamos r0\n",
    "    r0 = r_siguiente\n",
    "    \n",
    "    # Sumamos uno a la iteración \n",
    "    iteracion += 1\n",
    "    print(f\"Iteración: {iteracion}  Error: {error_calculado.evalf()}\")\n",
    "\n",
    "print(f\"Uno de los puntos en el que se cortan las funciones y el plano x-y es ({r_siguiente[0].evalf()}, {r_siguiente[1].evalf()}, {F_G_sub[1].evalf()}) que es aproximadamente el punto ({iteracion} iteraciones)\")"
   ]
  },
  {
   "cell_type": "markdown",
   "metadata": {},
   "source": [
    "### Lo convertimos en una función\n",
    "\n",
    "Vas a poder especificar cuales son los valores iniciales"
   ]
  },
  {
   "cell_type": "code",
   "execution_count": 110,
   "metadata": {},
   "outputs": [],
   "source": [
    "import sympy as sym\n",
    "import numpy as np\n",
    "\n",
    "def NewtonRaphson_2D(f1, f2, tolerancia=0.001, *vectores_iniciales):\n",
    "    \"\"\"\n",
    "    Lorem ipsum\n",
    "    \n",
    "    Input: \n",
    "        -f1: Debe ser una string. Una función que va a ser casteada a una función de Sympy. Utiliza una única variable 'x' \n",
    "        e 'y' para diferenciar la función respecto de ella y recuerda utilizar 'E' para el número e, expresar \n",
    "        explicitamente que quieres multiplicar con '*', utilizar sin(x) en vez de sen(x) y utilizar paréntesis si \n",
    "        utilizas funciones como seno y coseno\n",
    "        \n",
    "        -f2: Debe ser una string. Una función que va a ser casteada a una función de Sympy. Utiliza una única variable 'x' \n",
    "        e 'y' para diferenciar la función respecto de ella y recuerda utilizar 'E' para el número e, expresar \n",
    "        explicitamente que quieres multiplicar con '*', utilizar sin(x) en vez de sen(x) y utilizar paréntesis si \n",
    "        utilizas funciones como seno y coseno\n",
    "        \n",
    "        -tolerancia: Para mejores resultados debe ser 10^n, (escrito como '0.0...01' con n ceros). Determina la precisión\n",
    "        de las raíces obtenidas parando el proceso iterativo cuando el error calculado es menor que esta. Además en función\n",
    "        de ella se redondea un set con las raices obtenidas (Ej: error=0.0001 -> redondeo hasta la cuarta unidad) ya que\n",
    "        no tiene sentido que las raices obtenidas tengan más decimales que la tolerancia dada.\n",
    "        \n",
    "        -*vectores_iniciales: pares de numeros que representan estimaciones iniciales del punto de corte \n",
    "    Output:\n",
    "        -\n",
    "    \"\"\"\n",
    "    # Preparatorio\n",
    "    \n",
    "    # Casteamos las funciones a expresiones simbólicas de sympy\n",
    "    symf1 = sym.sympify(f)\n",
    "    symf2 = sym.sympify(f2)\n",
    "    \n",
    "    # Creamos las matrices 1x1 y las juntamos en una de 1x2\n",
    "    f1_matrix = sym.Matrix([symf1])\n",
    "    f2_matrix = sym.Matrix([symf1])\n",
    "    f1_f2_matrix = sym.Matrix([[f1_matrix], [f2_matrix]])\n",
    "    \n",
    "    # Creamos el jacobiano de la matriz anterior\n",
    "    V = sym.Matrix([sym.sympify(\"x\"), sym.sympify(\"y\")]) # Esta es la que contiene las variablesen función de las \n",
    "    # cuales se toman las derivadas parciales, es necesáreo porque así está hecha la función .jacobian\n",
    "    J = f1_f2_matrix.jacobian(V)\n",
    "    \n",
    "    # Creamos la lista que contendrá los puntos con tres coordenadas que se aproximan a los puntos de corte \n",
    "    vectores_solucion = list()\n",
    "    for i in range(len(vectores_iniciales)): # por cada uno de los vectores iniciales haremos el N-R\n",
    "        # r0 es  el vector 'i' de los vectores iniciales y r_siguiente es por ahora nulo\n",
    "        r0 = sym.Matrix(vectores_iniciales[i]) \n",
    "        r_siguiente = sym.Matrix([0, 0])\n",
    "        \n",
    "        # Sustituimos r0 en la matriz f1_f2_matrix de las funciones y (r0) en el jacobiano\n",
    "        J_en_r0 = J.subs([[sym.sympify(\"x\"), r0[0]], [sym.sympify(\"y\"), r0[1]]])\n",
    "        f1_f2_matrix_en_r0 = f1_f2_matrix.subs([[sym.sympify(\"x\"), r0[0]], [sym.sympify(\"y\"), r0[1]]])\n",
    "        \n",
    "        # Calculamos la solución del sistema lineal con los coeficientes de la matriz del jacobiano en r0 y con los terminos \n",
    "        # indepencientes de la función en r0\n",
    "        solucion = J_en_r0.gauss_jordan_solve(f1_f2_matrix_en_r0)[0] # la fución debuelve dos matrices la primera tiene las  \n",
    "        # soluciones y la segunda tiene las incognitas en caso de que no pueda resolver el sistema completamente, como \n",
    "        # siempre va a poder resolver el sistema solo necesitamos la primera entera\n",
    "        \n",
    "        # Actualizamos el valor de r_siguiente\n",
    "        r_siguiente = r0 - solucion\n",
    "\n",
    "        # Declaramos 'error_calculado' que es la variable que guardará el error en cada iteración y 'iteración' que \n",
    "        # guardará porqué iteración vamos\n",
    "        error_calculado = 1.0\n",
    "        iteracion = 0\n",
    "        \n",
    "        # Bucle iterativo de newton raphson \n",
    "        while error_dado <= error_calculado or iteracion > 100: # si hace demasiadas iteraciones parará el ciclo\n",
    "            # Actualizamos los valores de las matrices de coeficientes\n",
    "            J_en_r0 = J.subs([[sym.sympify(\"x\"), r_siguiente[0]], [sym.sympify(\"y\"), r_siguiente[1]]])  # jacobiano sustituido\n",
    "            f1_f2_matrix_en_r0 = F_G.subs([[sym.sympify(\"x\"), r_siguiente[0]], [sym.sympify(\"y\"), r_siguiente[1]]]) # la matriz con las dos funciones sustituidas\n",
    "            solucion = J_en_r0.gauss_jordan_solve(f1_f2_matrix_en_r0)[0] # La matriz de soluciones\n",
    "\n",
    "            # Actualizamos el valor de r_siguiete\n",
    "            r_siguiente = r0 - solucion # Hacemos los dos a la vez\n",
    "\n",
    "            # Actualizamos el error\n",
    "            error_calculado = abs(max([(r_siguiente[0]-r0[0]), (r_siguiente[1]-r0[1])]))\n",
    "\n",
    "            # Actualizamos r0\n",
    "            r0 = r_siguiente\n",
    "\n",
    "            # Sumamos uno a la iteración \n",
    "            iteracion += 1\n",
    "        # Añadimos el vector encontrado a la lista vectores_solucion\n",
    "        vectores_solucion.append([r_siguiente[0].evalf(), r_siguiente[1].evalf(), f1_f2_matrix_en_r0[1].evalf()]) \n",
    "        return vectores_solucion"
   ]
  },
  {
   "cell_type": "markdown",
   "metadata": {},
   "source": [
    "###  Para encontrar minimos y máximos\n",
    "\n",
    "Debemos resolver el siguente sistema: \n",
    "$$\n",
    "    H_{r_n}(r_n - r_{r+1}) = J_{r_n}\n",
    "$$\n",
    "donde $H$ es la matriz hessiana, $J$ es el jacobiano y ambos están evaluados en el vector $r_n = (x_n,\\ y_n)$"
   ]
  },
  {
   "cell_type": "code",
   "execution_count": 25,
   "metadata": {},
   "outputs": [
    {
     "name": "stdout",
     "output_type": "stream",
     "text": [
      "Introduce una función f(x, y) para calcular sus extremos. Utiliza las variables 'x' e 'y' y recuerda utilizar 'E' para el número e, expresar explicitamente que quieres multiplicar con '*', utilizar sin(x) en vez de sen(x) y utilizar paréntesis si utilizas funciones como seno y coseno \n",
      "x^2+y^2 - 2\n",
      "Introduce el error (Las raíces finales serán redondeadas en función del error dictado, Ej: error=0.0001 -> redondeo hasta la cuarta unidad): \n",
      "0.00001\n"
     ]
    }
   ],
   "source": [
    "import sympy as sym\n",
    "import numpy as np\n",
    "# En esta celda se selecionan las funciones \n",
    "function = input(\"Introduce una función f(x, y) para calcular sus extremos. Utiliza las variables 'x' e 'y' y recuerda utilizar 'E' para el número e, expresar explicitamente que quieres multiplicar con '*', utilizar sin(x) en vez de sen(x) y utilizar paréntesis si utilizas funciones como seno y coseno \\n\")\n",
    "symfunction = sym.sympify(function) # Esto es un casteo de una string a una expresión que sympy es capaz de entender \n",
    "\n",
    "F = sym.Matrix([symfunction]) # la matriz 1x1 de la función f\n",
    "\n",
    "# Computamos la matriz que contiene las variables con las que diferenciaremos respecto de (cosas de sympy)\n",
    "V = sym.Matrix([sym.sympify(\"x\"), sym.sympify(\"y\")])\n",
    "\n",
    "# Computamos el Jacobiano\n",
    "J = sym.transpose(F.jacobian(V)) # esta será nuestra matriz de coeficientes libres, Debe transponerse porque nos la da una matriz de 1x2\n",
    "\n",
    "# Computamos el Hessiano\n",
    "H = sym.hessian(F, (V))\n",
    "\n",
    "error_dado = float(input(\"Introduce el error (Las raíces finales serán redondeadas en función del error dictado, Ej: error=0.0001 -> redondeo hasta la cuarta unidad): \\n\"))"
   ]
  },
  {
   "cell_type": "code",
   "execution_count": 27,
   "metadata": {},
   "outputs": [
    {
     "name": "stdout",
     "output_type": "stream",
     "text": [
      "Iteración: 1  Error: 0\n",
      "Iteración: 2  Error: 1.00000000000000\n",
      "Iteración: 3  Error: 0\n",
      "Iteración: 4  Error: 0\n",
      "Iteración: 5  Error: 0\n",
      "Iteración: 6  Error: 0\n",
      "Iteración: 7  Error: 0\n",
      "Iteración: 8  Error: 0\n",
      "Iteración: 9  Error: 0\n",
      "Iteración: 10  Error: 0\n",
      "Iteración: 11  Error: 0\n",
      "Iteración: 12  Error: 0\n",
      "Iteración: 13  Error: 0\n",
      "Iteración: 14  Error: 0\n",
      "Iteración: 15  Error: 0\n",
      "Iteración: 16  Error: 0\n",
      "Iteración: 17  Error: 0\n",
      "Iteración: 18  Error: 0\n",
      "Iteración: 19  Error: 0\n",
      "Iteración: 20  Error: 0\n",
      "Iteración: 21  Error: 0\n",
      "Iteración: 22  Error: 0\n",
      "Iteración: 23  Error: 0\n",
      "Iteración: 24  Error: 0\n",
      "Iteración: 25  Error: 0\n",
      "Iteración: 26  Error: 0\n",
      "Un extremo de la función es (0, 0, -2.00000000000000) (26 iteraciones)\n"
     ]
    }
   ],
   "source": [
    "# En esta celda se hace la iteración\n",
    "r0 = sym.Matrix([1, 1]) # Vector inicial, son matrices de sympy para que no halla errores\n",
    "r_siguiente = sym.Matrix([0, 0]) # Vector siguente\n",
    "\n",
    "#Primero lo hacemos con r0\n",
    "# Actualizamos los valores de las matrices de coeficientes\n",
    "J_sub = J.subs([[sym.sympify(\"x\"), r0[0]], [sym.sympify(\"y\"), r0[1]]])\n",
    "H_sub = H.subs([[sym.sympify(\"x\"), r0[0]], [sym.sympify(\"y\"), r0[1]]])\n",
    "\n",
    "solucion = H_sub.gauss_jordan_solve(J_sub)[0] # la fución debuelve dos matrices la primera tiene las soluciones \n",
    "# y la segunda tiene las incognitas en caso de que no pueda resolver el sistema completamente, como siempre va a poder \n",
    "# resolver el sistema solo necesitamos la primera enterada\n",
    "# Actualizamos el valor de r_siguiente\n",
    "r_siguiente = r0 - solucion\n",
    "\n",
    "error_calculado = 1.0\n",
    "\n",
    "iteracion = 0\n",
    "while error_dado <= error_calculado or iteracion <= 25: # si hace demasiadas iteraciones parará el ciclo\n",
    "    # Actualizamos los valores de las matrices de coeficientes\n",
    "    J_sub = J.subs([[sym.sympify(\"x\"), r_siguiente[0]], [sym.sympify(\"y\"), r_siguiente[1]]])  # jacobiano sustituido\n",
    "    H_sub = H.subs([[sym.sympify(\"x\"), r0[0]], [sym.sympify(\"y\"), r0[1]]]) # Hessiano sustituido\n",
    "    solucion = H_sub.gauss_jordan_solve(J_sub)[0] # La matriz de soluciones\n",
    "    \n",
    "    # Actualizamos el valor de r_siguiete\n",
    "    r_siguiente = r0 - solucion # Hacemos los dos a la vez\n",
    "    \n",
    "    # Actualizamos el error\n",
    "    error_calculado = abs(max([(r_siguiente.evalf()[0]-r0.evalf()[0]), (r_siguiente.evalf()[1]-r0.evalf()[1])]))\n",
    "\n",
    "    # Actualizamos r0\n",
    "    r0 = r_siguiente\n",
    "    \n",
    "    # Sumamos uno a la iteración \n",
    "    iteracion += 1\n",
    "    print(f\"Iteración: {iteracion}  Error: {error_calculado.evalf()}\")\n",
    "\n",
    "F_sub = F.subs([[sym.sympify(\"x\"), r_siguiente[0]], [sym.sympify(\"y\"), r_siguiente[1]]])\n",
    "print(f\"Un extremo de la función es ({r_siguiente[0].evalf()}, {r_siguiente[1].evalf()}, {F_sub[0].evalf()}) ({iteracion} iteraciones)\")"
   ]
  },
  {
   "cell_type": "code",
   "execution_count": null,
   "metadata": {},
   "outputs": [],
   "source": []
  }
 ],
 "metadata": {
  "kernelspec": {
   "display_name": "Python 3",
   "language": "python",
   "name": "python3"
  },
  "language_info": {
   "codemirror_mode": {
    "name": "ipython",
    "version": 3
   },
   "file_extension": ".py",
   "mimetype": "text/x-python",
   "name": "python",
   "nbconvert_exporter": "python",
   "pygments_lexer": "ipython3",
   "version": "3.8.3"
  }
 },
 "nbformat": 4,
 "nbformat_minor": 4
}
