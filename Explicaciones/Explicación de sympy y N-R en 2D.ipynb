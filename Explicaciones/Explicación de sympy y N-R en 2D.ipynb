{
 "cells": [
  {
   "cell_type": "markdown",
   "metadata": {},
   "source": [
    "## Sympy: Diferenciar\n",
    "\n",
    "Primero hay que importarlo"
   ]
  },
  {
   "cell_type": "code",
   "execution_count": 20,
   "metadata": {},
   "outputs": [],
   "source": [
    "import sympy as sym"
   ]
  },
  {
   "cell_type": "markdown",
   "metadata": {},
   "source": [
    "### Un pequeño ejemplo de como funciona sympy: "
   ]
  },
  {
   "cell_type": "code",
   "execution_count": 21,
   "metadata": {},
   "outputs": [
    {
     "data": {
      "text/latex": [
       "$\\displaystyle 5 x^{4}$"
      ],
      "text/plain": [
       "5*x**4"
      ]
     },
     "execution_count": 21,
     "metadata": {},
     "output_type": "execute_result"
    }
   ],
   "source": [
    "x = sym.Symbol(\"x\")\n",
    "sym.diff(x**5) # Normalmente utilizaremos print, pero como esto es un notebook lo pone en LaTex"
   ]
  },
  {
   "cell_type": "markdown",
   "metadata": {},
   "source": [
    "### Como diferenciar en python con sympy: "
   ]
  },
  {
   "cell_type": "code",
   "execution_count": 22,
   "metadata": {},
   "outputs": [
    {
     "name": "stdout",
     "output_type": "stream",
     "text": [
      "Introduce una función para diferenciar. Utiliza una única variable 'x' para diferenciar la función respecto de ella y recuerda utilizar 'E' para el número e, expresar explicitamente que quieres multiplicar con '*', utilizar sin(x) en vez de sen(x) y utilizar paréntesis si utilizas funciones como seno y coseno \n",
      "x\n"
     ]
    },
    {
     "data": {
      "text/latex": [
       "$\\displaystyle 1$"
      ],
      "text/plain": [
       "1"
      ]
     },
     "execution_count": 22,
     "metadata": {},
     "output_type": "execute_result"
    }
   ],
   "source": [
    "function = input(\"Introduce una función para diferenciar. Utiliza una única variable 'x' para diferenciar la función respecto de ella y recuerda utilizar 'E' para el número e, expresar explicitamente que quieres multiplicar con '*', utilizar sin(x) en vez de sen(x) y utilizar paréntesis si utilizas funciones como seno y coseno \\n\") \n",
    "symfunction = sym.sympify(function) # Esto es un casteo de una string a una expresión que sympy es capaz de entender \n",
    "sym.diff(symfunction)"
   ]
  },
  {
   "cell_type": "markdown",
   "metadata": {},
   "source": [
    "## Metodo de Newton-Raphson\n",
    "\n",
    "La fórmula que utilizaremos es: $$x_{i+1} = x_i \\frac{f(x_i)}{f'(x_i)}$$\n",
    "\n",
    "Pasos a seguir: \n",
    "    1. Calcular f'(x)\n",
    "    2. Elegir valor inicial de x\n",
    "    3. Establecer un bucle recursivo hasta llegar a una aproximación. Este bucle parará cuando el error sea menor que el especificado \n",
    "\n",
    "El error vendrá dado por $|\\epsilon| = \\left|x_{i+1} - x_i\\right|$\n"
   ]
  },
  {
   "cell_type": "code",
   "execution_count": 25,
   "metadata": {},
   "outputs": [
    {
     "name": "stdout",
     "output_type": "stream",
     "text": [
      "Introduce una función. Utiliza una única variable 'x' para diferenciar la función respecto de ella y recuerda utilizar 'E' para el número e, expresar explicitamente que quieres multiplicar con '*', utilizar sin(x) en vez de sen(x) y utilizar paréntesis si utilizas funciones como seno y coseno \n",
      "x**3 + 4\n",
      "Introduce el error: \n",
      "0.01\n",
      "x_siguiente: -133.266666666667 \n",
      "\n",
      "x_siguiente: -88.8445195195007 \n",
      "\n",
      "x_siguiente: -59.2298485982583 \n",
      "\n",
      "x_siguiente: -39.4869457968345 \n",
      "\n",
      "x_siguiente: -26.3254856602516 \n",
      "\n",
      "x_siguiente: -17.5522476888204 \n",
      "\n",
      "x_siguiente: -11.7058263197659 \n",
      "\n",
      "x_siguiente: -7.81361470034558 \n",
      "\n",
      "x_siguiente: -5.23091556770816 \n",
      "\n",
      "x_siguiente: -3.53600557583316 \n",
      "\n",
      "x_siguiente: -2.46397526245900 \n",
      "\n",
      "x_siguiente: -1.86226722312301 \n",
      "\n",
      "x_siguiente: -1.62597464771356 \n",
      "\n",
      "x_siguiente: -1.58830891121099 \n",
      "\n",
      "x_siguiente: -1.58740157079131 \n",
      "\n",
      "La aproximación a una de las raices de la función x**3 + 4 es -1.58740157079131\n"
     ]
    }
   ],
   "source": [
    "function = input(\"Introduce una función. Utiliza una única variable 'x' para diferenciar la función respecto de ella y recuerda utilizar 'E' para el número e, expresar explicitamente que quieres multiplicar con '*', utilizar sin(x) en vez de sen(x) y utilizar paréntesis si utilizas funciones como seno y coseno \\n\") \n",
    "symfunction = sym.sympify(function)\n",
    "symfunctiondiff = sym.diff(symfunction)\n",
    "x_i = 0.1# Esto es un valor aleatorio. \n",
    "         # Dependiendo de la función no puede ser cero o dará un error de Not A Number. Se debe hacer una gestión de eso\n",
    "error_dado = float(input(\"Introduce el error: \\n\"))\n",
    "error_calculado = 1.0\n",
    "i = 0\n",
    "while error_dado <= error_calculado:\n",
    "    x_siguiente = x_i - (symfunction.subs(x, x_i))/(symfunctiondiff.subs(x, x_i))\n",
    "    print(f\"x_siguiente: {x_siguiente} \\n\")\n",
    "    #print(f\"x_i: {x_i} \\n\")\n",
    "    error_calculado = abs((x_siguiente - x_i))\n",
    "    #print(f\"error: {error_calculado} \\n\")\n",
    "    x_i = x_siguiente\n",
    "    i += 1\n",
    "    if i == 10000: # Failswich para que no se produzca un bucle infinito en caso de que no converga\n",
    "        print(\"El bucle se ha ejecutado 10000 veces, saliendo de él\")\n",
    "        break\n",
    "print(f\"La aproximación a una de las raices de la función {symfunction} es {x_siguiente} ({i} iteraciones)\") # Nota: se podría poner el resultado redondeada"
   ]
  },
  {
   "cell_type": "markdown",
   "metadata": {},
   "source": [
    "### Podemos convertir esto en una función"
   ]
  },
  {
   "cell_type": "code",
   "execution_count": null,
   "metadata": {},
   "outputs": [],
   "source": [
    "def NewtonRaphson_2D(f, )"
   ]
  }
 ],
 "metadata": {
  "kernelspec": {
   "display_name": "Python 3",
   "language": "python",
   "name": "python3"
  },
  "language_info": {
   "codemirror_mode": {
    "name": "ipython",
    "version": 3
   },
   "file_extension": ".py",
   "mimetype": "text/x-python",
   "name": "python",
   "nbconvert_exporter": "python",
   "pygments_lexer": "ipython3",
   "version": "3.8.3"
  }
 },
 "nbformat": 4,
 "nbformat_minor": 4
}
