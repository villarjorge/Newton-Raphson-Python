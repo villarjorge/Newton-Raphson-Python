{
 "cells": [
  {
   "cell_type": "markdown",
   "metadata": {},
   "source": [
    "## Sympy: Diferenciar\n",
    "\n",
    "Primero hay que importarlo"
   ]
  },
  {
   "cell_type": "code",
   "execution_count": 79,
   "metadata": {},
   "outputs": [],
   "source": [
    "import sympy as sym"
   ]
  },
  {
   "cell_type": "markdown",
   "metadata": {},
   "source": [
    "### Un pequeño ejemplo de como funciona sympy: "
   ]
  },
  {
   "cell_type": "code",
   "execution_count": 4,
   "metadata": {},
   "outputs": [
    {
     "data": {
      "text/latex": [
       "$\\displaystyle 5 x^{4}$"
      ],
      "text/plain": [
       "5*x**4"
      ]
     },
     "execution_count": 4,
     "metadata": {},
     "output_type": "execute_result"
    }
   ],
   "source": [
    "x = sym.Symbol(\"x\")\n",
    "sym.diff(x**5) # Normalmente utilizaremos print, pero como esto es un notebook lo pone en LaTex"
   ]
  },
  {
   "cell_type": "markdown",
   "metadata": {},
   "source": [
    "### Como diferenciar en python con sympy: "
   ]
  },
  {
   "cell_type": "code",
   "execution_count": 72,
   "metadata": {},
   "outputs": [
    {
     "name": "stdout",
     "output_type": "stream",
     "text": [
      "Introduce una función para diferenciar. Utiliza una única variable 'x' para diferenciar la función respecto de ella y recuerda utilizar 'E' para el número e, expresar explicitamente que quieres multiplicar con '*', utilizar sin(x) en vez de sen(x) y utilizar paréntesis si utilizas funciones como seno y coseno \n",
      "cos(x)\n"
     ]
    },
    {
     "data": {
      "text/latex": [
       "$\\displaystyle - \\sin{\\left(x \\right)}$"
      ],
      "text/plain": [
       "-sin(x)"
      ]
     },
     "execution_count": 72,
     "metadata": {},
     "output_type": "execute_result"
    }
   ],
   "source": [
    "function = input(\"Introduce una función para diferenciar. Utiliza una única variable 'x' para diferenciar la función respecto de ella y recuerda utilizar 'E' para el número e, expresar explicitamente que quieres multiplicar con '*', utilizar sin(x) en vez de sen(x) y utilizar paréntesis si utilizas funciones como seno y coseno \\n\") \n",
    "symfunction = sym.sympify(function) # Esto es un casteo de una string a una expresión que sympy es capaz de entender \n",
    "sym.diff(symfunction)"
   ]
  },
  {
   "cell_type": "markdown",
   "metadata": {},
   "source": [
    "## Metodo de Newton-Raphson\n",
    "\n",
    "La fórmula que utilizaremos es: $$x_{i+1} = x_i \\frac{f(x_i)}{f'(x_i)}$$\n",
    "\n",
    "Pasos a seguir: \n",
    "    1. Calcular f'(x)\n",
    "    2. Elegir valor inicial de x\n",
    "    3. Establecer un bucle recursivo hasta llegar a una aproximación. Este bucle parará cuando el error sea menor que el especificado \n",
    "\n",
    "El error vendrá dado por $|\\epsilon| = \\left|x_{i+1} - x_i\\right|$\n"
   ]
  },
  {
   "cell_type": "code",
   "execution_count": 16,
   "metadata": {},
   "outputs": [
    {
     "name": "stdout",
     "output_type": "stream",
     "text": [
      "Introduce una función. Utiliza una única variable 'x' para diferenciar la función respecto de ella y recuerda utilizar 'E' para el número e, expresar explicitamente que quieres multiplicar con '*', utilizar sin(x) en vez de sen(x) y utilizar paréntesis si utilizas funciones como seno y coseno \n",
      "cos(x^2)\n",
      "Introduce el error: \n",
      "0.001\n",
      "error: 499.983333222221 \n",
      "\n",
      "error: 0.699323095890293 \n",
      "\n",
      "error: 0.0000524513802702131 \n",
      "\n",
      "La aproximación a una de las raices de la función cos(x**2) es 499.383957674950 (3 iteraciones)\n"
     ]
    }
   ],
   "source": [
    "symfunction = sym.sympify(input(\"Introduce una función. Utiliza una única variable 'x' para diferenciar la función respecto de ella y recuerda utilizar 'E' para el número e, expresar explicitamente que quieres multiplicar con '*', utilizar sin(x) en vez de sen(x) y utilizar paréntesis si utilizas funciones como seno y coseno \\n\") )\n",
    "symfunctiondiff = sym.diff(symfunction)\n",
    "x_i = 0.1# Esto es un valor aleatorio. \n",
    "         # Dependiendo de la función no puede ser cero o dará un error de Not A Number. Se debe hacer una gestión de eso\n",
    "error_dado = float(input(\"Introduce el error: \\n\"))\n",
    "error_calculado = 1.0\n",
    "i = 0\n",
    "while error_dado <= error_calculado:\n",
    "    x_siguiente = x_i - (symfunction.subs(sym.Symbol(\"x\"), x_i))/(symfunctiondiff.subs(sym.Symbol(\"x\"), x_i))\n",
    "    #print(f\"x_siguiente: {x_siguiente} \\n\")\n",
    "    #print(f\"x_i: {x_i} \\n\")\n",
    "    error_calculado = abs((x_siguiente - x_i))\n",
    "    print(f\"Valor del error: {error_calculado} \\n\")\n",
    "    x_i = x_siguiente\n",
    "    i += 1\n",
    "    if i == 10000: # Failswich para que no se produzca un bucle infinito en caso de que no converga\n",
    "        print(\"El bucle se ha ejecutado 10000 veces, saliendo de él\")\n",
    "        break\n",
    "print(f\"La aproximación a una de las raices de la función {symfunction} es {x_siguiente} ({i} iteraciones)\") # Nota: se podría poner el resultado redondeada"
   ]
  },
  {
   "cell_type": "markdown",
   "metadata": {},
   "source": [
    "Debemos tener en cuenta que una función puede tener varias raices, por lo que tenemos que hacer varias pasadas del metodo para\n",
    "encontrar todas. \n",
    "\n",
    "El usuario dirá un número que será el centro de la búsqueda"
   ]
  },
  {
   "cell_type": "code",
   "execution_count": 41,
   "metadata": {},
   "outputs": [
    {
     "name": "stdout",
     "output_type": "stream",
     "text": [
      "Introduce una función. Utiliza una única variable 'x' para diferenciar la función respecto de ella y recuerda utilizar 'E' para el número e, expresar explicitamente que quieres multiplicar con '*', utilizar sin(x) en vez de sen(x) y utilizar paréntesis si utilizas funciones como seno y coseno \n",
      "x^2 -2 \n",
      "Introduce un entero que servirá para establecer el centro de el segmento donde se buscará: \n",
      "0\n",
      "Introduce el error (Las raíces finales serán redondeadas en función del error dictado, Ej: error=0.0001 -> redondeo hasta la cuarta unidad): \n",
      "0.001\n",
      "Se empezerá el método de N-R con los números [-2.   -0.99  0.02  1.03]\n",
      "Valor del error: 0.500000000000000 \n",
      "\n",
      "Valor del error: 0.0833333333333333 \n",
      "\n",
      "Valor del error: 0.00245098039215685 \n",
      "\n",
      "Valor del error: 0.00000212389982001682 \n",
      "\n",
      "La aproximación a una de las raices de la función x**2 - 2 es -1.41421356237469 (4 iteraciones)\n",
      "Valor del error: 0.515101010101010 \n",
      "\n",
      "Valor del error: 0.0881432703939498 \n",
      "\n",
      "Valor del error: 0.00274152005314843 \n",
      "\n",
      "Valor del error: 0.00000265727832027274 \n",
      "\n",
      "La aproximación a una de las raices de la función x**2 - 2 es -1.41421356237559 (4 iteraciones)\n",
      "Valor del error: 49.9900000000000 \n",
      "\n",
      "Valor del error: 24.9850039992001 \n",
      "\n",
      "Valor del error: 12.4725379540539 \n",
      "\n",
      "Valor del error: 6.19656335181476 \n",
      "\n",
      "Valor del error: 3.02061308565070 \n",
      "\n",
      "Valor del error: 1.36781604704928 \n",
      "\n",
      "Valor del error: 0.475464672541425 \n",
      "\n",
      "Valor del error: 0.0757595576507792 \n",
      "\n",
      "Valor del error: 0.00202631798889064 \n",
      "\n",
      "Valor del error: 0.00000145167621301567 \n",
      "\n",
      "La aproximación a una de las raices de la función x**2 - 2 es 1.41421356237384 (10 iteraciones)\n",
      "Valor del error: 0.455873786407767 \n",
      "\n",
      "Valor del error: 0.0699322213753362 \n",
      "\n",
      "Valor del error: 0.00172694823969555 \n",
      "\n",
      "Valor del error: 0.00000105441924702632 \n",
      "\n",
      "La aproximación a una de las raices de la función x**2 - 2 es 1.41421356237349 (4 iteraciones)\n",
      "En resumen, las raices encontradas son: [-1.41421356237469, -1.41421356237559, 1.41421356237384, 1.41421356237349]\n",
      "Las raices redondeadas en función del error dado y eliminando duplicados obvios: {1.414, -1.414}\n"
     ]
    }
   ],
   "source": [
    "import numpy as np\n",
    "\n",
    "symfunction = sym.sympify(input(\"Introduce una función. Utiliza una única variable 'x' para diferenciar la función respecto de ella y recuerda utilizar 'E' para el número e, expresar explicitamente que quieres multiplicar con '*', utilizar sin(x) en vez de sen(x) y utilizar paréntesis si utilizas funciones como seno y coseno \\n\") )\n",
    "symfunctiondiff = sym.diff(symfunction)\n",
    "centro_rango = int(input(\"Introduce un entero que servirá para establecer el centro de el segmento donde se buscará: \\n\"))\n",
    "semillas = np.arange(-2, 2, 1.01) + centro_rango # Esto sustituye a x_i en el código anterior. \n",
    "\n",
    "error_dado = float(input(\"Introduce el error (Las raíces finales serán redondeadas en función del error dictado, Ej: error=0.0001 -> redondeo hasta la cuarta unidad): \\n\"))\n",
    "error_calculado = 1.0\n",
    "print(f\"Se empezerá el método de N-R con los números {semillas}\")\n",
    "raices = list() \n",
    "for i in semillas: \n",
    "    x_i = i\n",
    "    cont = 0\n",
    "    while error_dado <= error_calculado:\n",
    "        x_siguiente = x_i - (symfunction.subs(sym.Symbol(\"x\"), x_i))/(symfunctiondiff.subs(sym.Symbol(\"x\"), x_i))\n",
    "        #print(f\"x_siguiente: {x_siguiente} \\n\")\n",
    "        #print(f\"x_i: {x_i} \\n\")\n",
    "        error_calculado = abs((x_siguiente - x_i))\n",
    "        print(f\"Valor del error: {error_calculado} \\n\")\n",
    "        x_i = x_siguiente\n",
    "        cont += 1\n",
    "        if cont == 10000: # Failswich para que no se produzca un bucle infinito en caso de que no converga\n",
    "            print(\"El bucle se ha ejecutado 10000 veces, saliendo de él\")\n",
    "            break\n",
    "    error_calculado = 1.0\n",
    "    print(f\"La aproximación a una de las raices de la función {symfunction} es {x_siguiente} ({cont} iteraciones)\") \n",
    "    raices.append(x_siguiente)\n",
    "print(f\"En resumen, las raices encontradas son: {raices}\")\n",
    "\n",
    "for i in range(len(raices)): # Esta parte se encaragará de hacer el redondeamiento\n",
    "    raices[i] = round(raices[i], int(np.log10(error_dado**(-1))))\n",
    "raices_set = set(raices)# Elimina duplicados\n",
    "print(f\"Las raices redondeadas en función del error dado y eliminando duplicados obvios: {raices_set}\")\n",
    "\n",
    "#Cuando los valores de x_i son cercanos a cero el programa da raices enormes debido a que se está dividiendo por un número \n",
    "#muy pequeño.\n",
    "#Se tiene que encontrar la forma de tratar la lista con todas las raices para sacar las que son más cercanas a la realidad"
   ]
  },
  {
   "cell_type": "markdown",
   "metadata": {},
   "source": [
    "### Podemos convertir esto en una función"
   ]
  },
  {
   "cell_type": "code",
   "execution_count": 114,
   "metadata": {},
   "outputs": [],
   "source": [
    "import numpy as np\n",
    "def NewtonRaphson_2D(f, tolerancia, center_range = 0, start_seed = -2):# tolerancia = error_dado\n",
    "    \"\"\"\n",
    "    Esta función aplica el método de N-R en dos dimensiones para multiples semillas (valores iniciales). Cuando el error entre \n",
    "    un valor calculado y el anterior es menor que uno especificado para el proceso y añade la raiz a una lista. Las semillas se\n",
    "    generan con un np.arange que va desde un valor especificado a ese mismo valor en negativo. Además el centro de estas \n",
    "    semillas puede ser cambiado, esencialmente sumando un número al conjunto de números. \n",
    "    \n",
    "    Input: \n",
    "        -f: Debe ser una string. Una función que va a ser casteada a una función de Sympy. Utiliza una única variable 'x' para diferenciar la \n",
    "        función respecto de ella y recuerda utilizar 'E' para el número e, expresar explicitamente que quieres \n",
    "        multiplicar con '*', utilizar sin(x) en vez de sen(x) y utilizar paréntesis si utilizas funciones como seno y coseno\n",
    "        \n",
    "        -tolerancia: Para mejores resultados debe ser 10^n, (escrito como '0.0...01' con n ceros). Determina la precisión\n",
    "        de las raíces obtenidas parando el proceso iterativo cuando el error calculado es menor que esta. Además en función\n",
    "        de ella se redondea un set con las raices obtenidas (Ej: error=0.0001 -> redondeo hasta la cuarta unidad) ya que\n",
    "        no tiene sentido que las raices obtenidas tengan más decimales que la tolerancia dada.\n",
    "        \n",
    "        -center_range: Tiene como valor predetenminado cero (0). Se le suma a la array de semillas para mover todas ellas a\n",
    "        la izquierda o derecha en la linea de números\n",
    "        \n",
    "        -start_seed: Tiene como valor predeterminado -2. Es donde empieza y termina el np.arange utilizado como valores\n",
    "        iniciales para el método. \n",
    "    Output:\n",
    "        -roots: Una lista con las raices encontradas sin redondear. Habrá tantas como semillas haya. Pueden existir duplicados\n",
    "        en ella \n",
    "        -roots_set: Un set con las raices redondeadas en función de la tolerancia. Se eliminan los duplicasdos\n",
    "    \"\"\"\n",
    "    \"\"\"hay_error = True # Una flag\n",
    "    while hay_error: # Bloque para errores\n",
    "        try:\n",
    "            symf = sym.sympify(f)\n",
    "        except SyntaxError:\n",
    "            print(\"Ha ocurrido un error de sintaxis. Recuerda: Utiliza una única variable 'x' para diferenciar la función respecto de ella y recuerda utilizar 'E' para el número e, expresar explicitamente que quieres multiplicar con '*', utilizar sin(x) en vez de sen(x) y utilizar paréntesis si utilizas funciones como seno y coseno\")\n",
    "        except TypeError:\n",
    "            print(\"Se ha introducido algún símbolo incorrecto. Recuerda que debes usar: /, *, -, +, ^ (ó **) y . (en vez de ,)\")\n",
    "        except NameError:\n",
    "            print(\"Se ha introducido en la función una variable no definida. recuerda utilizar 'x' como variable respecto de la cual se va a diferenciar\")\n",
    "        else: \n",
    "            hay_error = False\"\"\"\n",
    "            \n",
    "    try:\n",
    "        symf = sym.sympify(f)\n",
    "        symfdiff = sym.diff(symf)\n",
    "    except SyntaxError:\n",
    "        print(\"Ha ocurrido un error de sintaxis. Recuerda: Utiliza una única variable 'x' para diferenciar la función respecto de ella y recuerda utilizar 'E' para el número e, expresar explicitamente que quieres multiplicar con '*', utilizar sin(x) en vez de sen(x) y utilizar paréntesis si utilizas funciones como seno y coseno. Revisa la documentación de esta función para más información. Código de error: SyntaxError\")\n",
    "    except TypeError:\n",
    "        print(\"Se ha introducido algún símbolo incorrecto. Recuerda que debes usar: /, *, -, +, ^ (ó **) y . (en vez de ,). Revisa la documentación de esta función para más información. Código de error: TypeError\")\n",
    "    except NameError:\n",
    "        print(\"Se ha introducido en la función una variable no definida. Recuerda utilizar 'x' como variable respecto de la cual se va a diferenciar. Revisa la documentación de esta función para más información. Código de error: NameError\")\n",
    "    except ValueError:\n",
    "        print(\"Se ha introducido en la función una variable no definida. Para el número e debes utilizar E. Recuerda utilizar 'x' como variable respecto de la cual se va a diferenciar. Revisa la documentación de esta función para más información. Código de error: Value error\")\n",
    "    else:\n",
    "        seeds = np.arange(start_seed, -start_seed, 1.01) + center_range \n",
    "\n",
    "        error_calculado = 1.0\n",
    "        roots = list() \n",
    "        for i in seeds: \n",
    "            x_i = i\n",
    "            cont = 0\n",
    "            while tolerancia <= error_calculado:\n",
    "                x_siguiente = x_i - (symf.subs(sym.Symbol(\"x\"), x_i))/(symfdiff.subs(sym.Symbol(\"x\"), x_i))\n",
    "                error_calculado = abs((x_siguiente - x_i))\n",
    "                x_i = x_siguiente\n",
    "                cont += 1\n",
    "                if cont == 10000: # Failswich para que no se produzca un bucle infinito en caso de que no converga\n",
    "                    break\n",
    "            error_calculado = 1.0\n",
    "            roots.append(x_siguiente)\n",
    "        roots_copy = roots[:] # Debemos hacer una copia de la lista para poder devolver una lista y un set\n",
    "        for i in range(len(roots)): # Esta parte se encaragará de hacer el redondeamiento\n",
    "            roots_copy[i] = round(roots[i], int(np.log10(tolerancia**(-1))))\n",
    "        return roots, set(roots_copy) "
   ]
  },
  {
   "cell_type": "code",
   "execution_count": 113,
   "metadata": {},
   "outputs": [
    {
     "name": "stdout",
     "output_type": "stream",
     "text": [
      "([-0.000976562500000000, -0.000966796875000000, 0.000625000000000001, 0.000502929687500000], {0.001, -0.e-3})\n"
     ]
    }
   ],
   "source": [
    "print(NewtonRaphson_2D(\"x^2\", 0.001))"
   ]
  }
 ],
 "metadata": {
  "kernelspec": {
   "display_name": "Python 3",
   "language": "python",
   "name": "python3"
  },
  "language_info": {
   "codemirror_mode": {
    "name": "ipython",
    "version": 3
   },
   "file_extension": ".py",
   "mimetype": "text/x-python",
   "name": "python",
   "nbconvert_exporter": "python",
   "pygments_lexer": "ipython3",
   "version": "3.8.3"
  }
 },
 "nbformat": 4,
 "nbformat_minor": 4
}
