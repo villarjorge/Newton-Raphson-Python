{
 "cells": [
  {
   "cell_type": "markdown",
   "metadata": {},
   "source": [
    "## Sympy: Diferenciar\n",
    "\n",
    "Primero hay que importarlo"
   ]
  },
  {
   "cell_type": "code",
   "execution_count": 31,
   "metadata": {},
   "outputs": [],
   "source": [
    "import sympy as sym"
   ]
  },
  {
   "cell_type": "markdown",
   "metadata": {},
   "source": [
    "### Un pequeño ejemplo de como funciona sympy: "
   ]
  },
  {
   "cell_type": "code",
   "execution_count": 32,
   "metadata": {},
   "outputs": [
    {
     "data": {
      "text/latex": [
       "$\\displaystyle 5 x^{4}$"
      ],
      "text/plain": [
       "5*x**4"
      ]
     },
     "execution_count": 32,
     "metadata": {},
     "output_type": "execute_result"
    }
   ],
   "source": [
    "x = sym.Symbol(\"x\")\n",
    "sym.diff(x**5) # Normalmente utilizaremos print, pero como esto es un notebook lo pone en LaTex"
   ]
  },
  {
   "cell_type": "markdown",
   "metadata": {},
   "source": [
    "### Como diferenciar en python con sympy: "
   ]
  },
  {
   "cell_type": "code",
   "execution_count": 33,
   "metadata": {},
   "outputs": [
    {
     "name": "stdout",
     "output_type": "stream",
     "text": [
      "Introduce una función para diferenciar. Utiliza una única variable 'x' para diferenciar la función respecto de ella y recuerda utilizar 'E' para el número e, expresar explicitamente que quieres multiplicar con '*', utilizar sin(x) en vez de sen(x) y utilizar paréntesis si utilizas funciones como seno y coseno \n",
      "x\n"
     ]
    },
    {
     "data": {
      "text/latex": [
       "$\\displaystyle 1$"
      ],
      "text/plain": [
       "1"
      ]
     },
     "execution_count": 33,
     "metadata": {},
     "output_type": "execute_result"
    }
   ],
   "source": [
    "function = input(\"Introduce una función para diferenciar. Utiliza una única variable 'x' para diferenciar la función respecto de ella y recuerda utilizar 'E' para el número e, expresar explicitamente que quieres multiplicar con '*', utilizar sin(x) en vez de sen(x) y utilizar paréntesis si utilizas funciones como seno y coseno \\n\") \n",
    "symfunction = sym.sympify(function) # Esto es un casteo de una string a una expresión que sympy es capaz de entender \n",
    "sym.diff(symfunction)"
   ]
  },
  {
   "cell_type": "markdown",
   "metadata": {},
   "source": [
    "## Metodo de Newton-Raphson\n",
    "\n",
    "La fórmula que utilizaremos es: $$x_{i+1} = x_i \\frac{f(x_i)}{f'(x_i)}$$\n",
    "\n",
    "Pasos a seguir: \n",
    "    1. Calcular f'(x)\n",
    "    2. Elegir valor inicial de x\n",
    "    3. Establecer un bucle recursivo hasta llegar a una aproximación. Este bucle parará cuando el error sea menor que el especificado \n",
    "\n",
    "El error vendrá dado por $|\\epsilon| = \\left|x_{i+1} - x_i\\right|$\n"
   ]
  },
  {
   "cell_type": "code",
   "execution_count": 16,
   "metadata": {},
   "outputs": [
    {
     "name": "stdout",
     "output_type": "stream",
     "text": [
      "Introduce una función. Utiliza una única variable 'x' para diferenciar la función respecto de ella y recuerda utilizar 'E' para el número e, expresar explicitamente que quieres multiplicar con '*', utilizar sin(x) en vez de sen(x) y utilizar paréntesis si utilizas funciones como seno y coseno \n",
      "cos(x^2)\n",
      "Introduce el error: \n",
      "0.001\n",
      "error: 499.983333222221 \n",
      "\n",
      "error: 0.699323095890293 \n",
      "\n",
      "error: 0.0000524513802702131 \n",
      "\n",
      "La aproximación a una de las raices de la función cos(x**2) es 499.383957674950 (3 iteraciones)\n"
     ]
    }
   ],
   "source": [
    "symfunction = sym.sympify(input(\"Introduce una función. Utiliza una única variable 'x' para diferenciar la función respecto de ella y recuerda utilizar 'E' para el número e, expresar explicitamente que quieres multiplicar con '*', utilizar sin(x) en vez de sen(x) y utilizar paréntesis si utilizas funciones como seno y coseno \\n\") )\n",
    "symfunctiondiff = sym.diff(symfunction)\n",
    "x_i = 0.1# Esto es un valor aleatorio. \n",
    "         # Dependiendo de la función no puede ser cero o dará un error de Not A Number. Se debe hacer una gestión de eso\n",
    "error_dado = float(input(\"Introduce el error: \\n\"))\n",
    "error_calculado = 1.0\n",
    "i = 0\n",
    "while error_dado <= error_calculado:\n",
    "    x_siguiente = x_i - (symfunction.subs(sym.Symbol(\"x\"), x_i))/(symfunctiondiff.subs(sym.Symbol(\"x\"), x_i))\n",
    "    #print(f\"x_siguiente: {x_siguiente} \\n\")\n",
    "    #print(f\"x_i: {x_i} \\n\")\n",
    "    error_calculado = abs((x_siguiente - x_i))\n",
    "    print(f\"Valor del error: {error_calculado} \\n\")\n",
    "    x_i = x_siguiente\n",
    "    i += 1\n",
    "    if i == 10000: # Failswich para que no se produzca un bucle infinito en caso de que no converga\n",
    "        print(\"El bucle se ha ejecutado 10000 veces, saliendo de él\")\n",
    "        break\n",
    "print(f\"La aproximación a una de las raices de la función {symfunction} es {x_siguiente} ({i} iteraciones)\") # Nota: se podría poner el resultado redondeada"
   ]
  },
  {
   "cell_type": "markdown",
   "metadata": {},
   "source": [
    "Debemos tener en cuenta que una función puede tener varias raices, por lo que tenemos que hacer varias pasadas del metodo para\n",
    "encontrar todas. \n",
    "\n",
    "El usuario dirá un número que será el centro de la búsqueda"
   ]
  },
  {
   "cell_type": "code",
   "execution_count": 38,
   "metadata": {},
   "outputs": [
    {
     "name": "stdout",
     "output_type": "stream",
     "text": [
      "Introduce una función. Utiliza una única variable 'x' para diferenciar la función respecto de ella y recuerda utilizar 'E' para el número e, expresar explicitamente que quieres multiplicar con '*', utilizar sin(x) en vez de sen(x) y utilizar paréntesis si utilizas funciones como seno y coseno \n",
      "x**4 - 2\n",
      "Introduce un entero que servirá para establecer el centro de el segmento donde se buscará: \n",
      "0\n",
      "Introduce el error: \n",
      "1\n",
      "[-2.   -0.99  0.02  1.03]\n",
      "Valor del error: 0.437500000000000 \n",
      "\n",
      "La aproximación a una de las raices de la función x**4 - 2 es -1.56250000000000 (1 iteraciones)\n",
      "Valor del error: 0.267805076064182 \n",
      "\n",
      "La aproximación a una de las raices de la función x**4 - 2 es -1.25780507606418 (2 iteraciones)\n",
      "Valor del error: 62499.9949999998 \n",
      "\n",
      "Valor del error: 15625.0037500000 \n",
      "\n",
      "Valor del error: 11718.7528125000 \n",
      "\n",
      "Valor del error: 8789.06460937497 \n",
      "\n",
      "Valor del error: 6591.79845703123 \n",
      "\n",
      "Valor del error: 4943.84884277342 \n",
      "\n",
      "Valor del error: 3707.88663208007 \n",
      "\n",
      "Valor del error: 2780.91497406005 \n",
      "\n",
      "Valor del error: 2085.68623054504 \n",
      "\n",
      "Valor del error: 1564.26467290878 \n",
      "\n",
      "Valor del error: 1173.19850468158 \n",
      "\n",
      "Valor del error: 879.898878511178 \n",
      "\n",
      "Valor del error: 659.924158883368 \n",
      "\n",
      "Valor del error: 494.943119162489 \n",
      "\n",
      "Valor del error: 371.207339371778 \n",
      "\n",
      "Valor del error: 278.405504528624 \n",
      "\n",
      "Valor del error: 208.804128395972 \n",
      "\n",
      "Valor del error: 156.603096295803 \n",
      "\n",
      "Valor del error: 117.452322219065 \n",
      "\n",
      "Valor del error: 88.0892416576910 \n",
      "\n",
      "Valor del error: 66.0669312276058 \n",
      "\n",
      "Valor del error: 49.5501983835786 \n",
      "\n",
      "Valor del error: 37.1626486996821 \n",
      "\n",
      "Valor del error: 27.8719863161646 \n",
      "\n",
      "Valor del error: 20.9039892426714 \n",
      "\n",
      "Valor del error: 15.6779907599690 \n",
      "\n",
      "Valor del error: 11.7584902918215 \n",
      "\n",
      "Valor del error: 8.81886113361328 \n",
      "\n",
      "Valor del error: 6.61413024075191 \n",
      "\n",
      "Valor del error: 4.96056068059345 \n",
      "\n",
      "Valor del error: 3.72033280850730 \n",
      "\n",
      "Valor del error: 2.79004173301032 \n",
      "\n",
      "Valor del error: 2.09203865804128 \n",
      "\n",
      "Valor del error: 1.56786196272195 \n",
      "\n",
      "Valor del error: 1.17313550560043 \n",
      "\n",
      "Valor del error: 0.873346823819161 \n",
      "\n",
      "La aproximación a una de las raices de la función x**4 - 2 es 2.66518055063828 (38 iteraciones)\n",
      "Valor del error: 0.200070829676579 \n",
      "\n",
      "La aproximación a una de las raices de la función x**4 - 2 es 1.23007082967658 (39 iteraciones)\n",
      "En resumen, las raices encontradas son: [-1.56250000000000, -1.25780507606418, 2.66518055063828, 1.23007082967658]\n"
     ]
    }
   ],
   "source": [
    "import numpy as np\n",
    "\n",
    "symfunction = sym.sympify(input(\"Introduce una función. Utiliza una única variable 'x' para diferenciar la función respecto de ella y recuerda utilizar 'E' para el número e, expresar explicitamente que quieres multiplicar con '*', utilizar sin(x) en vez de sen(x) y utilizar paréntesis si utilizas funciones como seno y coseno \\n\") )\n",
    "symfunctiondiff = sym.diff(symfunction)\n",
    "centro_rango = int(input(\"Introduce un entero que servirá para establecer el centro de el segmento donde se buscará: \\n\"))\n",
    "semillas = np.arange(-2, 2, 1.01) + centro_rango # Esto sustituye a x_i en el código anterior. \n",
    "\n",
    "error_dado = float(input(\"Introduce el error: \\n\"))\n",
    "error_calculado = 1.0\n",
    "print(semillas)\n",
    "cont = 0\n",
    "raices = list()\n",
    "for i in semillas: \n",
    "    x_i = i\n",
    "    while error_dado <= error_calculado:\n",
    "        x_siguiente = x_i - (symfunction.subs(sym.Symbol(\"x\"), x_i))/(symfunctiondiff.subs(sym.Symbol(\"x\"), x_i))\n",
    "        #print(f\"x_siguiente: {x_siguiente} \\n\")\n",
    "        #print(f\"x_i: {x_i} \\n\")\n",
    "        error_calculado = abs((x_siguiente - x_i))\n",
    "        print(f\"Valor del error: {error_calculado} \\n\")\n",
    "        x_i = x_siguiente\n",
    "        cont += 1\n",
    "        if cont == 10000: # Failswich para que no se produzca un bucle infinito en caso de que no converga\n",
    "            print(\"El bucle se ha ejecutado 10000 veces, saliendo de él\")\n",
    "            break\n",
    "    error_calculado = 1.0\n",
    "    print(f\"La aproximación a una de las raices de la función {symfunction} es {x_siguiente} ({cont} iteraciones)\") # Nota: se podría poner el resultado redondeada\n",
    "    raices.append(x_siguiente)\n",
    "print(f\"En resumen, las raices encontradas son: {raices}\")\n",
    "\n",
    "#Cuando los valores de x_i son cercanos a cero el programa da raices enormes debido a que se está dividiendo\n",
    "#por un número muy pequeño.\n",
    "#Se tiene que encontrar la forma de tratar la lista con todas las raices para sacar las que son más cercanas a la realidadh"
   ]
  },
  {
   "cell_type": "markdown",
   "metadata": {},
   "source": [
    "### Podemos convertir esto en una función"
   ]
  },
  {
   "cell_type": "code",
   "execution_count": 37,
   "metadata": {},
   "outputs": [],
   "source": [
    "#def NewtonRaphson_2D(f, ) #por hacer"
   ]
  },
  {
   "cell_type": "code",
   "execution_count": null,
   "metadata": {},
   "outputs": [],
   "source": []
  }
 ],
 "metadata": {
  "kernelspec": {
   "display_name": "Python 3",
   "language": "python",
   "name": "python3"
  },
  "language_info": {
   "codemirror_mode": {
    "name": "ipython",
    "version": 3
   },
   "file_extension": ".py",
   "mimetype": "text/x-python",
   "name": "python",
   "nbconvert_exporter": "python",
   "pygments_lexer": "ipython3",
   "version": "3.8.3"
  }
 },
 "nbformat": 4,
 "nbformat_minor": 4
}
